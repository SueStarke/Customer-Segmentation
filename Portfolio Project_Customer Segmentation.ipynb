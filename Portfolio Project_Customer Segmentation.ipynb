{
 "cells": [
  {
   "cell_type": "markdown",
   "id": "f6fc617a-ddee-4fb2-afd1-e0d56dd0bec0",
   "metadata": {},
   "source": [
    "Customer Segmentation Project\n",
    "\n",
    "Goals:\n",
    "\n",
    "1. Database preparation\n",
    "   \n",
    "1.1 Check the error in the database\n",
    "\n",
    "1.2 Create new database and import tables\n",
    "\n",
    "1.3 Connect to the database\n",
    "\n",
    "1.4 Query the tables\n",
    "\n",
    "2. Analyzing Data\n",
    "\n",
    "2.1 Separate returns of goods to see the cancellation rate \n",
    "\n",
    "2.2 Customer Segmentation\n",
    "\n",
    "2.2.1 Geographical Segmentation\n",
    "\n",
    "2.2.1.1 Popular Regions\n",
    "\n",
    "2.2.1.2 Least Popular Regions\n",
    "\n",
    "2.2.1.3 Segmentation by average Price per order \n",
    "\n",
    "\n",
    "2.2.2 Temporal Segmentation\n",
    "\n",
    "2.2.2.1 Number of Orders per Month \n",
    "\n",
    "2.2.2.2 Number of Orders per Weekday\n",
    "\n",
    "2.2.2.3 Number of Orders per Day\n",
    "\n",
    "\n",
    "2.2.3 Customer Segmentation (RFM)\n",
    "\n",
    "\n",
    "3. Conclusions and Recommendations"
   ]
  },
  {
   "cell_type": "code",
   "execution_count": 242,
   "id": "7949f248-a790-4c2b-acfe-e5f636fbe653",
   "metadata": {},
   "outputs": [],
   "source": [
    "import pandas as pd\n",
    "import numpy as np\n",
    "import seaborn as sns\n",
    "import sqlite3\n",
    "import matplotlib.pyplot as plt\n",
    "from datetime import datetime\n",
    "from matplotlib.dates import DateFormatter,MonthLocator,YearLocator,MonthLocator,WeekdayLocator\n",
    "from sklearn.preprocessing import StandardScaler\n",
    "from sklearn.cluster import KMeans\n",
    "import warnings\n",
    "warnings.filterwarnings('ignore')"
   ]
  },
  {
   "cell_type": "markdown",
   "id": "07477362-cac3-4c2f-ae8d-20b3c5723f76",
   "metadata": {},
   "source": [
    "1. Database preparation\n",
    "\n",
    "1.1 Check the error in the database"
   ]
  },
  {
   "cell_type": "code",
   "execution_count": 243,
   "id": "a74a8991-5f60-4fbc-916b-3c7c0fe3989c",
   "metadata": {},
   "outputs": [
    {
     "data": {
      "text/plain": [
       "<sqlite3.Cursor at 0x180301440>"
      ]
     },
     "execution_count": 243,
     "metadata": {},
     "output_type": "execute_result"
    }
   ],
   "source": [
    "C = conn.cursor()\n",
    "C.execute('pragma encoding')"
   ]
  },
  {
   "cell_type": "code",
   "execution_count": 244,
   "id": "a6adf62b-920e-49d2-8799-4c244dce2310",
   "metadata": {},
   "outputs": [
    {
     "name": "stdout",
     "output_type": "stream",
     "text": [
      "('UTF-8',)\n"
     ]
    }
   ],
   "source": [
    "rows = C.fetchall()\n",
    "for row in rows: \n",
    "    print(row)"
   ]
  },
  {
   "cell_type": "markdown",
   "id": "23b2baea-fdc1-4016-817e-6d89ac1c6800",
   "metadata": {},
   "source": [
    "1.2 Create new database and import tables"
   ]
  },
  {
   "cell_type": "code",
   "execution_count": 245,
   "id": "1148988e-a544-4073-b215-459b044075f0",
   "metadata": {},
   "outputs": [],
   "source": [
    "import sqlite3\n",
    "\n",
    "conn = sqlite3.connect('db_bootcamp.db')\n",
    "cursor = conn.cursor()\n"
   ]
  },
  {
   "cell_type": "code",
   "execution_count": 246,
   "id": "bea5a4dc-ebd9-4a9e-a416-8b0e0151f46b",
   "metadata": {},
   "outputs": [
    {
     "data": {
      "text/plain": [
       "541910"
      ]
     },
     "execution_count": 246,
     "metadata": {},
     "output_type": "execute_result"
    }
   ],
   "source": [
    "import pandas as pd\n",
    "\n",
    "# CSV-Datei einlesen\n",
    "df = pd.read_csv('online_transactions_2.csv')\n",
    "\n",
    "# CSV-Daten in die Datenbanktabelle einfügen\n",
    "df.to_sql('online_transactions', conn, if_exists='append', index=False)\n"
   ]
  },
  {
   "cell_type": "markdown",
   "id": "3124916f-3025-4123-91f9-5516c0eb4bb4",
   "metadata": {},
   "source": [
    "1.3 Connect to the database"
   ]
  },
  {
   "cell_type": "code",
   "execution_count": 477,
   "id": "32c77188-b0f1-4018-a4cb-750429162251",
   "metadata": {},
   "outputs": [
    {
     "name": "stdout",
     "output_type": "stream",
     "text": [
      "online_transactions\n",
      "stock_description\n",
      "online_transactions_cleaned\n"
     ]
    }
   ],
   "source": [
    "import sqlite3\n",
    "\n",
    "# connection to the SQLite database\n",
    "conn = sqlite3.connect('db_bootcamp.db')\n",
    "cursor = conn.cursor()\n",
    "\n",
    "# SQL query to get all table names\n",
    "cursor.execute(\"SELECT name FROM sqlite_master WHERE type='table';\")\n",
    "\n",
    "# Retrieve all table names from the cursor\n",
    "tabellen = cursor.fetchall()\n",
    "\n",
    "# Output tables\n",
    "for tabelle in tabellen:\n",
    "    print(tabelle[0])\n",
    "\n"
   ]
  },
  {
   "cell_type": "code",
   "execution_count": 248,
   "id": "89c664a3-3f5e-4879-bc55-f04d5c4e3e01",
   "metadata": {},
   "outputs": [
    {
     "data": {
      "text/plain": [
       "<sqlite3.Cursor at 0x1352bea40>"
      ]
     },
     "execution_count": 248,
     "metadata": {},
     "output_type": "execute_result"
    }
   ],
   "source": [
    "cursor.execute(\"DROP TABLE IF EXISTS online_transactions_2;\")\n"
   ]
  },
  {
   "cell_type": "code",
   "execution_count": 249,
   "id": "4bf67ef3-bed9-4794-a0e9-92ed13ac9845",
   "metadata": {},
   "outputs": [
    {
     "data": {
      "text/plain": [
       "<sqlite3.Cursor at 0x1352bea40>"
      ]
     },
     "execution_count": 249,
     "metadata": {},
     "output_type": "execute_result"
    }
   ],
   "source": [
    "cursor.execute(\"DROP TABLE IF EXISTS stock_description_2;\")\n"
   ]
  },
  {
   "cell_type": "code",
   "execution_count": 250,
   "id": "d5d387ff-2362-404b-b58f-9f4bb2d92d9b",
   "metadata": {},
   "outputs": [
    {
     "data": {
      "text/plain": [
       "<sqlite3.Cursor at 0x1352bea40>"
      ]
     },
     "execution_count": 250,
     "metadata": {},
     "output_type": "execute_result"
    }
   ],
   "source": [
    "cursor.execute(\"DROP TABLE IF EXISTS online_transactions_cleaned_2;\")\n"
   ]
  },
  {
   "cell_type": "code",
   "execution_count": 251,
   "id": "bfdeef03-0782-4903-b961-a605fff4f6a1",
   "metadata": {},
   "outputs": [],
   "source": [
    "conn.commit()\n"
   ]
  },
  {
   "cell_type": "code",
   "execution_count": 252,
   "id": "b05014de-e85f-407e-9bd7-5a53f109c45b",
   "metadata": {},
   "outputs": [
    {
     "data": {
      "text/plain": [
       "<sqlite3.Connection at 0x12e5f95d0>"
      ]
     },
     "execution_count": 252,
     "metadata": {},
     "output_type": "execute_result"
    }
   ],
   "source": [
    "conn"
   ]
  },
  {
   "cell_type": "code",
   "execution_count": 253,
   "id": "23341f79-a398-4519-9438-45f756936943",
   "metadata": {},
   "outputs": [
    {
     "name": "stdout",
     "output_type": "stream",
     "text": [
      "List of tables in the database:\n",
      "[('online_transactions',), ('stock_description',), ('online_transactions_cleaned',)]\n"
     ]
    }
   ],
   "source": [
    "sql_query = \"\"\"SELECT name \n",
    "               FROM sqlite_master \n",
    "               WHERE type='table';\"\"\"\n",
    "\n",
    "cursor = conn.cursor()\n",
    "\n",
    "# executing our sql query\n",
    "cursor.execute(sql_query)\n",
    "\n",
    " \n",
    "# printing all tables list\n",
    "print(f\"List of tables in the database:\\n{cursor.fetchall()}\")"
   ]
  },
  {
   "cell_type": "markdown",
   "id": "432c3604-74c8-453b-88d2-711dbe662ce5",
   "metadata": {},
   "source": [
    "1.4 Query the tables\n",
    "\n",
    "For further analysis, we work with the online_transactions_cleaned table, which contains the pre-processed data.\n",
    "(Duplicates and null ariables were removed, quantities with negative values were excluded)"
   ]
  },
  {
   "cell_type": "code",
   "execution_count": 254,
   "id": "d975cc0c-66ba-418d-b21a-23a2e8b23b5c",
   "metadata": {},
   "outputs": [],
   "source": [
    "# query the table with cleaned data\n",
    "query = \"\"\"SELECT *\n",
    "               FROM online_transactions_cleaned\n",
    "               WHERE quantity >= 0 AND price >= 0;\n",
    "               \"\"\"\n",
    "\n",
    "clean_data = pd.read_sql(query, conn)"
   ]
  },
  {
   "cell_type": "code",
   "execution_count": 255,
   "id": "e7886939-a4f0-4c9b-81ca-8c83d2ecbd7a",
   "metadata": {},
   "outputs": [
    {
     "data": {
      "text/plain": [
       "(1174002, 9)"
      ]
     },
     "execution_count": 255,
     "metadata": {},
     "output_type": "execute_result"
    }
   ],
   "source": [
    "clean_data.shape"
   ]
  },
  {
   "cell_type": "code",
   "execution_count": 256,
   "id": "a988a776-f57e-4499-9723-be183f467ef6",
   "metadata": {},
   "outputs": [
    {
     "data": {
      "text/html": [
       "<div>\n",
       "<style scoped>\n",
       "    .dataframe tbody tr th:only-of-type {\n",
       "        vertical-align: middle;\n",
       "    }\n",
       "\n",
       "    .dataframe tbody tr th {\n",
       "        vertical-align: top;\n",
       "    }\n",
       "\n",
       "    .dataframe thead th {\n",
       "        text-align: right;\n",
       "    }\n",
       "</style>\n",
       "<table border=\"1\" class=\"dataframe\">\n",
       "  <thead>\n",
       "    <tr style=\"text-align: right;\">\n",
       "      <th></th>\n",
       "      <th>invoice</th>\n",
       "      <th>stock_code</th>\n",
       "      <th>description</th>\n",
       "      <th>invoice_date</th>\n",
       "      <th>price</th>\n",
       "      <th>quantity</th>\n",
       "      <th>total_order_value</th>\n",
       "      <th>customer_id</th>\n",
       "      <th>country</th>\n",
       "    </tr>\n",
       "  </thead>\n",
       "  <tbody>\n",
       "    <tr>\n",
       "      <th>0</th>\n",
       "      <td>536370</td>\n",
       "      <td>21791</td>\n",
       "      <td>VINTAGE HEADS AND TAILS CARD GAME</td>\n",
       "      <td>2010-12-01 08:45:00</td>\n",
       "      <td>1.25</td>\n",
       "      <td>24</td>\n",
       "      <td>30.00</td>\n",
       "      <td>u12583</td>\n",
       "      <td>France</td>\n",
       "    </tr>\n",
       "    <tr>\n",
       "      <th>1</th>\n",
       "      <td>536373</td>\n",
       "      <td>82494L</td>\n",
       "      <td>WOODEN FRAME ANTIQUE WHITE</td>\n",
       "      <td>2010-12-01 09:02:00</td>\n",
       "      <td>2.55</td>\n",
       "      <td>6</td>\n",
       "      <td>15.30</td>\n",
       "      <td>u1785</td>\n",
       "      <td>United Kingdom</td>\n",
       "    </tr>\n",
       "    <tr>\n",
       "      <th>2</th>\n",
       "      <td>536378</td>\n",
       "      <td>21929</td>\n",
       "      <td>JUMBO BAG PINK VINTAGE PAISLEY</td>\n",
       "      <td>2010-12-01 09:37:00</td>\n",
       "      <td>1.95</td>\n",
       "      <td>10</td>\n",
       "      <td>19.50</td>\n",
       "      <td>u14688</td>\n",
       "      <td>United Kingdom</td>\n",
       "    </tr>\n",
       "    <tr>\n",
       "      <th>3</th>\n",
       "      <td>536381</td>\n",
       "      <td>37444A</td>\n",
       "      <td>YELLOW BREAKFAST CUP AND SAUCER</td>\n",
       "      <td>2010-12-01 09:41:00</td>\n",
       "      <td>2.95</td>\n",
       "      <td>1</td>\n",
       "      <td>2.95</td>\n",
       "      <td>u15311</td>\n",
       "      <td>United Kingdom</td>\n",
       "    </tr>\n",
       "    <tr>\n",
       "      <th>4</th>\n",
       "      <td>536381</td>\n",
       "      <td>15056BL</td>\n",
       "      <td>EDWARDIAN PARASOL BLACK</td>\n",
       "      <td>2010-12-01 09:41:00</td>\n",
       "      <td>5.95</td>\n",
       "      <td>2</td>\n",
       "      <td>11.90</td>\n",
       "      <td>u15311</td>\n",
       "      <td>United Kingdom</td>\n",
       "    </tr>\n",
       "  </tbody>\n",
       "</table>\n",
       "</div>"
      ],
      "text/plain": [
       "  invoice stock_code                         description         invoice_date  \\\n",
       "0  536370      21791  VINTAGE HEADS AND TAILS CARD GAME   2010-12-01 08:45:00   \n",
       "1  536373     82494L         WOODEN FRAME ANTIQUE WHITE   2010-12-01 09:02:00   \n",
       "2  536378      21929      JUMBO BAG PINK VINTAGE PAISLEY  2010-12-01 09:37:00   \n",
       "3  536381     37444A     YELLOW BREAKFAST CUP AND SAUCER  2010-12-01 09:41:00   \n",
       "4  536381    15056BL             EDWARDIAN PARASOL BLACK  2010-12-01 09:41:00   \n",
       "\n",
       "   price  quantity  total_order_value customer_id         country  \n",
       "0   1.25        24              30.00      u12583          France  \n",
       "1   2.55         6              15.30       u1785  United Kingdom  \n",
       "2   1.95        10              19.50      u14688  United Kingdom  \n",
       "3   2.95         1               2.95      u15311  United Kingdom  \n",
       "4   5.95         2              11.90      u15311  United Kingdom  "
      ]
     },
     "execution_count": 256,
     "metadata": {},
     "output_type": "execute_result"
    }
   ],
   "source": [
    "clean_data.head()"
   ]
  },
  {
   "cell_type": "code",
   "execution_count": 257,
   "id": "d96d36af-f5d5-42d6-a0c6-250122d6e47a",
   "metadata": {},
   "outputs": [
    {
     "data": {
      "text/html": [
       "<div>\n",
       "<style scoped>\n",
       "    .dataframe tbody tr th:only-of-type {\n",
       "        vertical-align: middle;\n",
       "    }\n",
       "\n",
       "    .dataframe tbody tr th {\n",
       "        vertical-align: top;\n",
       "    }\n",
       "\n",
       "    .dataframe thead th {\n",
       "        text-align: right;\n",
       "    }\n",
       "</style>\n",
       "<table border=\"1\" class=\"dataframe\">\n",
       "  <thead>\n",
       "    <tr style=\"text-align: right;\">\n",
       "      <th></th>\n",
       "      <th>price</th>\n",
       "      <th>quantity</th>\n",
       "      <th>total_order_value</th>\n",
       "    </tr>\n",
       "  </thead>\n",
       "  <tbody>\n",
       "    <tr>\n",
       "      <th>count</th>\n",
       "      <td>1.174002e+06</td>\n",
       "      <td>1.174002e+06</td>\n",
       "      <td>1.174002e+06</td>\n",
       "    </tr>\n",
       "    <tr>\n",
       "      <th>mean</th>\n",
       "      <td>2.920468e+00</td>\n",
       "      <td>1.317420e+01</td>\n",
       "      <td>2.237288e+01</td>\n",
       "    </tr>\n",
       "    <tr>\n",
       "      <th>std</th>\n",
       "      <td>7.267541e+00</td>\n",
       "      <td>1.818717e+02</td>\n",
       "      <td>3.109108e+02</td>\n",
       "    </tr>\n",
       "    <tr>\n",
       "      <th>min</th>\n",
       "      <td>0.000000e+00</td>\n",
       "      <td>1.000000e+00</td>\n",
       "      <td>0.000000e+00</td>\n",
       "    </tr>\n",
       "    <tr>\n",
       "      <th>25%</th>\n",
       "      <td>1.250000e+00</td>\n",
       "      <td>2.000000e+00</td>\n",
       "      <td>4.950000e+00</td>\n",
       "    </tr>\n",
       "    <tr>\n",
       "      <th>50%</th>\n",
       "      <td>1.950000e+00</td>\n",
       "      <td>6.000000e+00</td>\n",
       "      <td>1.190000e+01</td>\n",
       "    </tr>\n",
       "    <tr>\n",
       "      <th>75%</th>\n",
       "      <td>3.750000e+00</td>\n",
       "      <td>1.200000e+01</td>\n",
       "      <td>1.980000e+01</td>\n",
       "    </tr>\n",
       "    <tr>\n",
       "      <th>max</th>\n",
       "      <td>1.599260e+03</td>\n",
       "      <td>8.099500e+04</td>\n",
       "      <td>1.684696e+05</td>\n",
       "    </tr>\n",
       "  </tbody>\n",
       "</table>\n",
       "</div>"
      ],
      "text/plain": [
       "              price      quantity  total_order_value\n",
       "count  1.174002e+06  1.174002e+06       1.174002e+06\n",
       "mean   2.920468e+00  1.317420e+01       2.237288e+01\n",
       "std    7.267541e+00  1.818717e+02       3.109108e+02\n",
       "min    0.000000e+00  1.000000e+00       0.000000e+00\n",
       "25%    1.250000e+00  2.000000e+00       4.950000e+00\n",
       "50%    1.950000e+00  6.000000e+00       1.190000e+01\n",
       "75%    3.750000e+00  1.200000e+01       1.980000e+01\n",
       "max    1.599260e+03  8.099500e+04       1.684696e+05"
      ]
     },
     "execution_count": 257,
     "metadata": {},
     "output_type": "execute_result"
    }
   ],
   "source": [
    "clean_data.describe()"
   ]
  },
  {
   "cell_type": "code",
   "execution_count": 258,
   "id": "4a71c98a-656e-49f4-b97f-d9f8751f9ac0",
   "metadata": {},
   "outputs": [
    {
     "name": "stdout",
     "output_type": "stream",
     "text": [
      "<class 'pandas.core.frame.DataFrame'>\n",
      "RangeIndex: 1174002 entries, 0 to 1174001\n",
      "Data columns (total 9 columns):\n",
      " #   Column             Non-Null Count    Dtype  \n",
      "---  ------             --------------    -----  \n",
      " 0   invoice            1174002 non-null  object \n",
      " 1   stock_code         1174002 non-null  object \n",
      " 2   description        1174002 non-null  object \n",
      " 3   invoice_date       1174002 non-null  object \n",
      " 4   price              1174002 non-null  float64\n",
      " 5   quantity           1174002 non-null  int64  \n",
      " 6   total_order_value  1174002 non-null  float64\n",
      " 7   customer_id        1174002 non-null  object \n",
      " 8   country            1174002 non-null  object \n",
      "dtypes: float64(2), int64(1), object(6)\n",
      "memory usage: 80.6+ MB\n"
     ]
    }
   ],
   "source": [
    "# structure of the data\n",
    "clean_data.info ()"
   ]
  },
  {
   "cell_type": "code",
   "execution_count": 259,
   "id": "da227bf6-a3d8-4840-9704-9b31ca54cb53",
   "metadata": {},
   "outputs": [
    {
     "data": {
      "text/html": [
       "<div>\n",
       "<style scoped>\n",
       "    .dataframe tbody tr th:only-of-type {\n",
       "        vertical-align: middle;\n",
       "    }\n",
       "\n",
       "    .dataframe tbody tr th {\n",
       "        vertical-align: top;\n",
       "    }\n",
       "\n",
       "    .dataframe thead th {\n",
       "        text-align: right;\n",
       "    }\n",
       "</style>\n",
       "<table border=\"1\" class=\"dataframe\">\n",
       "  <thead>\n",
       "    <tr style=\"text-align: right;\">\n",
       "      <th></th>\n",
       "      <th>number_customers</th>\n",
       "      <th>number_orders</th>\n",
       "      <th>first_purchase</th>\n",
       "      <th>last_purchase</th>\n",
       "      <th>average_order_value</th>\n",
       "      <th>number_country</th>\n",
       "      <th>number_distinct_items</th>\n",
       "      <th>number_description</th>\n",
       "      <th>number_years</th>\n",
       "      <th>number_months</th>\n",
       "      <th>number_unknown_description</th>\n",
       "    </tr>\n",
       "  </thead>\n",
       "  <tbody>\n",
       "    <tr>\n",
       "      <th>0</th>\n",
       "      <td>4363</td>\n",
       "      <td>21791</td>\n",
       "      <td>2010-12-01 08:26:00</td>\n",
       "      <td>2011-12-09 12:50:00</td>\n",
       "      <td>20.716904</td>\n",
       "      <td>37</td>\n",
       "      <td>3679</td>\n",
       "      <td>3644</td>\n",
       "      <td>2</td>\n",
       "      <td>13</td>\n",
       "      <td>3516</td>\n",
       "    </tr>\n",
       "  </tbody>\n",
       "</table>\n",
       "</div>"
      ],
      "text/plain": [
       "   number_customers  number_orders       first_purchase        last_purchase  \\\n",
       "0              4363          21791  2010-12-01 08:26:00  2011-12-09 12:50:00   \n",
       "\n",
       "   average_order_value  number_country  number_distinct_items  \\\n",
       "0            20.716904              37                   3679   \n",
       "\n",
       "   number_description  number_years  number_months  number_unknown_description  \n",
       "0                3644             2             13                        3516  "
      ]
     },
     "execution_count": 259,
     "metadata": {},
     "output_type": "execute_result"
    }
   ],
   "source": [
    "# general information\n",
    "query=\"\"\"\n",
    "      SELECT COUNT(DISTINCT customer_id) AS number_customers,\n",
    "             COUNT(DISTINCT invoice) AS number_orders,\n",
    "             MIN(invoice_date) AS first_purchase,\n",
    "             MAX(invoice_date) AS last_purchase,\n",
    "             AVG(total_order_value) AS average_order_value,\n",
    "             COUNT(DISTINCT country) AS number_country,\n",
    "             COUNT(DISTINCT stock_code) AS number_distinct_items,\n",
    "             COUNT(DISTINCT description) AS number_description,\n",
    "             COUNT(DISTINCT substr(invoice_date,1,4)) AS number_years,\n",
    "             COUNT(DISTINCT substr(invoice_date,1,7)) AS number_months,\n",
    "             COUNT(CASE WHEN description='UNKNOWN' THEN 1 ELSE Null END) AS number_unknown_description\n",
    "      FROM online_transactions_cleaned\n",
    "      \"\"\"\n",
    "pd.read_sql(query,conn)"
   ]
  },
  {
   "cell_type": "markdown",
   "id": "d0402d2a-2cb1-4a9d-94c2-cb0a9b358d92",
   "metadata": {},
   "source": [
    "first conclusions:\n",
    "- purchase data from 1 Year  (12/2010-12/2011)\n",
    "- 4363 customers from 37 countries\n",
    "- 21791 orders in 1 year\n",
    "- 3679 different item types in sale, but only 3644 item descriptions --> 35 undescribed items types\n",
    "- average order value around 21 in a price range from 0,00 to 1599,26 "
   ]
  },
  {
   "cell_type": "markdown",
   "id": "9945f3ae-29e0-4d2b-8193-9f799b97d654",
   "metadata": {},
   "source": [
    "Analysis Questions:\n",
    "- how many return of goods were made // cancellation rate?\n",
    "- Customer segmentation by country --> amount spent?\n",
    "- Customer segmention by buying behavior (RFM)"
   ]
  },
  {
   "cell_type": "markdown",
   "id": "c31a5c69-ffb6-4689-b463-38f804b063ed",
   "metadata": {},
   "source": [
    "2. Analyzing Data\n",
    "\n",
    "2.1 Separate returns of goods to see the cancellation rate "
   ]
  },
  {
   "cell_type": "code",
   "execution_count": 260,
   "id": "ebebb78b-048e-4013-b533-1ba364cc5d75",
   "metadata": {},
   "outputs": [],
   "source": [
    "# handle returned or cancelled orders\n",
    "\n",
    "query = \"\"\"\n",
    "\n",
    "WITH transaction_pairs AS (\n",
    "    SELECT\n",
    "        t1.invoice AS invoice1,\n",
    "        t2.invoice AS invoice2,\n",
    "        t1.stock_code,\n",
    "        t1.description,\n",
    "        t1.invoice_date AS invoice_date1,\n",
    "        t2.invoice_date AS invoice_date2,\n",
    "        t1.price,\n",
    "        t1.quantity AS quantity1,\n",
    "        t2.quantity AS quantity2,\n",
    "        t1.customer_id,\n",
    "        t1.country\n",
    "    FROM\n",
    "        online_transactions_cleaned t1\n",
    "    JOIN\n",
    "        online_transactions_cleaned t2\n",
    "    ON\n",
    "        t1.stock_code = t2.stock_code AND\n",
    "        t1.description = t2.description AND\n",
    "        t1.price = t2.price AND\n",
    "        t1.customer_id = t2.customer_id AND\n",
    "        t1.quantity = -t2.quantity AND\n",
    "        t1.quantity > 0\n",
    ")\n",
    "-- Select all transactions that are not part of a matched pair\n",
    "SELECT\n",
    "    *\n",
    "FROM\n",
    "    online_transactions_cleaned\n",
    "WHERE\n",
    "    invoice NOT IN (SELECT invoice1 FROM transaction_pairs)\n",
    "    AND\n",
    "    invoice NOT IN (SELECT invoice2 FROM transaction_pairs)\n",
    "    AND quantity > 0;\n",
    "    \"\"\"\n",
    "\n",
    "return_cleaned = pd.read_sql(query, conn)"
   ]
  },
  {
   "cell_type": "code",
   "execution_count": 261,
   "id": "17787f20-4a23-4d74-a6f4-92a6d98418bc",
   "metadata": {},
   "outputs": [
    {
     "data": {
      "text/html": [
       "<div>\n",
       "<style scoped>\n",
       "    .dataframe tbody tr th:only-of-type {\n",
       "        vertical-align: middle;\n",
       "    }\n",
       "\n",
       "    .dataframe tbody tr th {\n",
       "        vertical-align: top;\n",
       "    }\n",
       "\n",
       "    .dataframe thead th {\n",
       "        text-align: right;\n",
       "    }\n",
       "</style>\n",
       "<table border=\"1\" class=\"dataframe\">\n",
       "  <thead>\n",
       "    <tr style=\"text-align: right;\">\n",
       "      <th></th>\n",
       "      <th>price</th>\n",
       "      <th>quantity</th>\n",
       "      <th>total_order_value</th>\n",
       "    </tr>\n",
       "  </thead>\n",
       "  <tbody>\n",
       "    <tr>\n",
       "      <th>count</th>\n",
       "      <td>973458.000000</td>\n",
       "      <td>973458.000000</td>\n",
       "      <td>973458.000000</td>\n",
       "    </tr>\n",
       "    <tr>\n",
       "      <th>mean</th>\n",
       "      <td>2.891756</td>\n",
       "      <td>12.865766</td>\n",
       "      <td>21.789280</td>\n",
       "    </tr>\n",
       "    <tr>\n",
       "      <th>std</th>\n",
       "      <td>7.658623</td>\n",
       "      <td>47.835400</td>\n",
       "      <td>95.716069</td>\n",
       "    </tr>\n",
       "    <tr>\n",
       "      <th>min</th>\n",
       "      <td>0.000000</td>\n",
       "      <td>1.000000</td>\n",
       "      <td>0.000000</td>\n",
       "    </tr>\n",
       "    <tr>\n",
       "      <th>25%</th>\n",
       "      <td>1.250000</td>\n",
       "      <td>2.000000</td>\n",
       "      <td>4.950000</td>\n",
       "    </tr>\n",
       "    <tr>\n",
       "      <th>50%</th>\n",
       "      <td>1.950000</td>\n",
       "      <td>6.000000</td>\n",
       "      <td>12.500000</td>\n",
       "    </tr>\n",
       "    <tr>\n",
       "      <th>75%</th>\n",
       "      <td>3.750000</td>\n",
       "      <td>12.000000</td>\n",
       "      <td>19.800000</td>\n",
       "    </tr>\n",
       "    <tr>\n",
       "      <th>max</th>\n",
       "      <td>1599.260000</td>\n",
       "      <td>12540.000000</td>\n",
       "      <td>38970.000000</td>\n",
       "    </tr>\n",
       "  </tbody>\n",
       "</table>\n",
       "</div>"
      ],
      "text/plain": [
       "               price       quantity  total_order_value\n",
       "count  973458.000000  973458.000000      973458.000000\n",
       "mean        2.891756      12.865766          21.789280\n",
       "std         7.658623      47.835400          95.716069\n",
       "min         0.000000       1.000000           0.000000\n",
       "25%         1.250000       2.000000           4.950000\n",
       "50%         1.950000       6.000000          12.500000\n",
       "75%         3.750000      12.000000          19.800000\n",
       "max      1599.260000   12540.000000       38970.000000"
      ]
     },
     "execution_count": 261,
     "metadata": {},
     "output_type": "execute_result"
    }
   ],
   "source": [
    "return_cleaned.describe()"
   ]
  },
  {
   "cell_type": "code",
   "execution_count": 262,
   "id": "0d0d0711-5a80-479a-9029-68feaed02482",
   "metadata": {},
   "outputs": [
    {
     "data": {
      "text/plain": [
       "(973458, 9)"
      ]
     },
     "execution_count": 262,
     "metadata": {},
     "output_type": "execute_result"
    }
   ],
   "source": [
    "return_cleaned.shape"
   ]
  },
  {
   "cell_type": "code",
   "execution_count": 263,
   "id": "c91097aa-07ea-49fa-ba41-00d3bd8e4584",
   "metadata": {},
   "outputs": [
    {
     "data": {
      "text/html": [
       "<div>\n",
       "<style scoped>\n",
       "    .dataframe tbody tr th:only-of-type {\n",
       "        vertical-align: middle;\n",
       "    }\n",
       "\n",
       "    .dataframe tbody tr th {\n",
       "        vertical-align: top;\n",
       "    }\n",
       "\n",
       "    .dataframe thead th {\n",
       "        text-align: right;\n",
       "    }\n",
       "</style>\n",
       "<table border=\"1\" class=\"dataframe\">\n",
       "  <thead>\n",
       "    <tr style=\"text-align: right;\">\n",
       "      <th></th>\n",
       "      <th>invoice</th>\n",
       "      <th>stock_code</th>\n",
       "      <th>description</th>\n",
       "      <th>invoice_date</th>\n",
       "      <th>price</th>\n",
       "      <th>quantity</th>\n",
       "      <th>total_order_value</th>\n",
       "      <th>customer_id</th>\n",
       "      <th>country</th>\n",
       "    </tr>\n",
       "  </thead>\n",
       "  <tbody>\n",
       "    <tr>\n",
       "      <th>0</th>\n",
       "      <td>536370</td>\n",
       "      <td>21791</td>\n",
       "      <td>VINTAGE HEADS AND TAILS CARD GAME</td>\n",
       "      <td>2010-12-01 08:45:00</td>\n",
       "      <td>1.25</td>\n",
       "      <td>24</td>\n",
       "      <td>30.00</td>\n",
       "      <td>u12583</td>\n",
       "      <td>France</td>\n",
       "    </tr>\n",
       "    <tr>\n",
       "      <th>1</th>\n",
       "      <td>536378</td>\n",
       "      <td>21929</td>\n",
       "      <td>JUMBO BAG PINK VINTAGE PAISLEY</td>\n",
       "      <td>2010-12-01 09:37:00</td>\n",
       "      <td>1.95</td>\n",
       "      <td>10</td>\n",
       "      <td>19.50</td>\n",
       "      <td>u14688</td>\n",
       "      <td>United Kingdom</td>\n",
       "    </tr>\n",
       "    <tr>\n",
       "      <th>2</th>\n",
       "      <td>536381</td>\n",
       "      <td>37444A</td>\n",
       "      <td>YELLOW BREAKFAST CUP AND SAUCER</td>\n",
       "      <td>2010-12-01 09:41:00</td>\n",
       "      <td>2.95</td>\n",
       "      <td>1</td>\n",
       "      <td>2.95</td>\n",
       "      <td>u15311</td>\n",
       "      <td>United Kingdom</td>\n",
       "    </tr>\n",
       "    <tr>\n",
       "      <th>3</th>\n",
       "      <td>536381</td>\n",
       "      <td>15056BL</td>\n",
       "      <td>EDWARDIAN PARASOL BLACK</td>\n",
       "      <td>2010-12-01 09:41:00</td>\n",
       "      <td>5.95</td>\n",
       "      <td>2</td>\n",
       "      <td>11.90</td>\n",
       "      <td>u15311</td>\n",
       "      <td>United Kingdom</td>\n",
       "    </tr>\n",
       "    <tr>\n",
       "      <th>4</th>\n",
       "      <td>536381</td>\n",
       "      <td>22438</td>\n",
       "      <td>BALLOON ART MAKE YOUR OWN FLOWERS</td>\n",
       "      <td>2010-12-01 09:41:00</td>\n",
       "      <td>1.95</td>\n",
       "      <td>1</td>\n",
       "      <td>1.95</td>\n",
       "      <td>u15311</td>\n",
       "      <td>United Kingdom</td>\n",
       "    </tr>\n",
       "  </tbody>\n",
       "</table>\n",
       "</div>"
      ],
      "text/plain": [
       "  invoice stock_code                         description         invoice_date  \\\n",
       "0  536370      21791  VINTAGE HEADS AND TAILS CARD GAME   2010-12-01 08:45:00   \n",
       "1  536378      21929      JUMBO BAG PINK VINTAGE PAISLEY  2010-12-01 09:37:00   \n",
       "2  536381     37444A     YELLOW BREAKFAST CUP AND SAUCER  2010-12-01 09:41:00   \n",
       "3  536381    15056BL             EDWARDIAN PARASOL BLACK  2010-12-01 09:41:00   \n",
       "4  536381      22438   BALLOON ART MAKE YOUR OWN FLOWERS  2010-12-01 09:41:00   \n",
       "\n",
       "   price  quantity  total_order_value customer_id         country  \n",
       "0   1.25        24              30.00      u12583          France  \n",
       "1   1.95        10              19.50      u14688  United Kingdom  \n",
       "2   2.95         1               2.95      u15311  United Kingdom  \n",
       "3   5.95         2              11.90      u15311  United Kingdom  \n",
       "4   1.95         1               1.95      u15311  United Kingdom  "
      ]
     },
     "execution_count": 263,
     "metadata": {},
     "output_type": "execute_result"
    }
   ],
   "source": [
    "return_cleaned.head()"
   ]
  },
  {
   "cell_type": "markdown",
   "id": "07f2baa3-6597-4437-bdad-5c526fede6aa",
   "metadata": {},
   "source": [
    "Findings:\n",
    "\n",
    "- return_cleaned data gives a  number of 973458 orders (1174002 with returns) --> there is a 17 percent return of goods quote\n",
    "--> this is normal value for returns of goods"
   ]
  },
  {
   "cell_type": "markdown",
   "id": "c42823da-9a04-4893-80ae-b3a585f4832d",
   "metadata": {},
   "source": [
    "2.2 Customer Segmentation\n",
    "\n",
    "2.2.1 Geographical Segmentation"
   ]
  },
  {
   "cell_type": "markdown",
   "id": "a460ff8b-48a0-4a9d-a19b-ea3a9cc63785",
   "metadata": {},
   "source": [
    "2.2.1.1 Popular Regions"
   ]
  },
  {
   "cell_type": "code",
   "execution_count": 265,
   "id": "4cecfe6d-0591-45aa-baef-45ec78dabfb2",
   "metadata": {},
   "outputs": [],
   "source": [
    "#segmentation number of orders by country\n",
    "\n",
    "country_num_orders = clean_data.groupby('country').agg(\n",
    "    num_orders=('invoice', 'nunique'),\n",
    "    total_order_value=('total_order_value', 'sum')\n",
    ").sort_values('num_orders', ascending=False).reset_index()"
   ]
  },
  {
   "cell_type": "code",
   "execution_count": 266,
   "id": "87e5548f-ffc4-4a54-b98e-2c75ecff197b",
   "metadata": {},
   "outputs": [
    {
     "data": {
      "text/html": [
       "<div>\n",
       "<style scoped>\n",
       "    .dataframe tbody tr th:only-of-type {\n",
       "        vertical-align: middle;\n",
       "    }\n",
       "\n",
       "    .dataframe tbody tr th {\n",
       "        vertical-align: top;\n",
       "    }\n",
       "\n",
       "    .dataframe thead th {\n",
       "        text-align: right;\n",
       "    }\n",
       "</style>\n",
       "<table border=\"1\" class=\"dataframe\">\n",
       "  <thead>\n",
       "    <tr style=\"text-align: right;\">\n",
       "      <th></th>\n",
       "      <th>country</th>\n",
       "      <th>num_orders</th>\n",
       "      <th>total_order_value</th>\n",
       "    </tr>\n",
       "  </thead>\n",
       "  <tbody>\n",
       "    <tr>\n",
       "      <th>0</th>\n",
       "      <td>United Kingdom</td>\n",
       "      <td>16581</td>\n",
       "      <td>2.176705e+07</td>\n",
       "    </tr>\n",
       "    <tr>\n",
       "      <th>1</th>\n",
       "      <td>Germany</td>\n",
       "      <td>443</td>\n",
       "      <td>6.161434e+05</td>\n",
       "    </tr>\n",
       "    <tr>\n",
       "      <th>2</th>\n",
       "      <td>France</td>\n",
       "      <td>380</td>\n",
       "      <td>5.519638e+05</td>\n",
       "    </tr>\n",
       "    <tr>\n",
       "      <th>3</th>\n",
       "      <td>EIRE</td>\n",
       "      <td>258</td>\n",
       "      <td>7.856644e+05</td>\n",
       "    </tr>\n",
       "    <tr>\n",
       "      <th>4</th>\n",
       "      <td>Belgium</td>\n",
       "      <td>98</td>\n",
       "      <td>1.107820e+05</td>\n",
       "    </tr>\n",
       "    <tr>\n",
       "      <th>5</th>\n",
       "      <td>Netherlands</td>\n",
       "      <td>94</td>\n",
       "      <td>8.516680e+05</td>\n",
       "    </tr>\n",
       "    <tr>\n",
       "      <th>6</th>\n",
       "      <td>Spain</td>\n",
       "      <td>88</td>\n",
       "      <td>1.671197e+05</td>\n",
       "    </tr>\n",
       "    <tr>\n",
       "      <th>7</th>\n",
       "      <td>Australia</td>\n",
       "      <td>56</td>\n",
       "      <td>4.143114e+05</td>\n",
       "    </tr>\n",
       "    <tr>\n",
       "      <th>8</th>\n",
       "      <td>Portugal</td>\n",
       "      <td>49</td>\n",
       "      <td>7.993170e+04</td>\n",
       "    </tr>\n",
       "    <tr>\n",
       "      <th>9</th>\n",
       "      <td>Switzerland</td>\n",
       "      <td>47</td>\n",
       "      <td>1.573259e+05</td>\n",
       "    </tr>\n",
       "  </tbody>\n",
       "</table>\n",
       "</div>"
      ],
      "text/plain": [
       "          country  num_orders  total_order_value\n",
       "0  United Kingdom       16581       2.176705e+07\n",
       "1         Germany         443       6.161434e+05\n",
       "2          France         380       5.519638e+05\n",
       "3            EIRE         258       7.856644e+05\n",
       "4         Belgium          98       1.107820e+05\n",
       "5     Netherlands          94       8.516680e+05\n",
       "6           Spain          88       1.671197e+05\n",
       "7       Australia          56       4.143114e+05\n",
       "8        Portugal          49       7.993170e+04\n",
       "9     Switzerland          47       1.573259e+05"
      ]
     },
     "execution_count": 266,
     "metadata": {},
     "output_type": "execute_result"
    }
   ],
   "source": [
    "country_num_orders.head(10)"
   ]
  },
  {
   "cell_type": "code",
   "execution_count": 267,
   "id": "28b8fb5f-0bae-4f73-93ee-a92abc95bb26",
   "metadata": {},
   "outputs": [
    {
     "data": {
      "image/png": "[encoded data removed]",
      "text/plain": [
       "<Figure size 1500x1000 with 1 Axes>"
      ]
     },
     "metadata": {},
     "output_type": "display_data"
    }
   ],
   "source": [
    "# visualization\n",
    "\n",
    "plt.figure(figsize=(15,10))\n",
    "\n",
    "plt.subplot(2, 2, 1)\n",
    "sns.barplot(x='num_orders', y='country', data = country_num_orders.sort_values('num_orders', ascending=False).head(10), color='#8de5a1')\n",
    "plt.title('Top 10 Countries by Number of Orders')\n",
    "plt.xlabel('Number of Orders')\n",
    "plt.ylabel('Country') \n",
    "plt.tight_layout()\n",
    "plt.show()"
   ]
  },
  {
   "cell_type": "code",
   "execution_count": 268,
   "id": "97553a31-15fb-4c6b-aeb7-71ee682026f0",
   "metadata": {},
   "outputs": [],
   "source": [
    "#segmentation total order value by country\n",
    "\n",
    "country_total_value = clean_data.groupby('country').agg(\n",
    "    num_orders=('invoice', 'nunique'),\n",
    "    total_order_value=('total_order_value', 'sum')\n",
    ").sort_values('total_order_value', ascending=False).reset_index()"
   ]
  },
  {
   "cell_type": "code",
   "execution_count": 269,
   "id": "48ed9710-5530-4914-90ca-2e5771d326f9",
   "metadata": {},
   "outputs": [
    {
     "data": {
      "text/html": [
       "<div>\n",
       "<style scoped>\n",
       "    .dataframe tbody tr th:only-of-type {\n",
       "        vertical-align: middle;\n",
       "    }\n",
       "\n",
       "    .dataframe tbody tr th {\n",
       "        vertical-align: top;\n",
       "    }\n",
       "\n",
       "    .dataframe thead th {\n",
       "        text-align: right;\n",
       "    }\n",
       "</style>\n",
       "<table border=\"1\" class=\"dataframe\">\n",
       "  <thead>\n",
       "    <tr style=\"text-align: right;\">\n",
       "      <th></th>\n",
       "      <th>country</th>\n",
       "      <th>num_orders</th>\n",
       "      <th>total_order_value</th>\n",
       "    </tr>\n",
       "  </thead>\n",
       "  <tbody>\n",
       "    <tr>\n",
       "      <th>0</th>\n",
       "      <td>United Kingdom</td>\n",
       "      <td>16581</td>\n",
       "      <td>2.176705e+07</td>\n",
       "    </tr>\n",
       "    <tr>\n",
       "      <th>1</th>\n",
       "      <td>Netherlands</td>\n",
       "      <td>94</td>\n",
       "      <td>8.516680e+05</td>\n",
       "    </tr>\n",
       "    <tr>\n",
       "      <th>2</th>\n",
       "      <td>EIRE</td>\n",
       "      <td>258</td>\n",
       "      <td>7.856644e+05</td>\n",
       "    </tr>\n",
       "    <tr>\n",
       "      <th>3</th>\n",
       "      <td>Germany</td>\n",
       "      <td>443</td>\n",
       "      <td>6.161434e+05</td>\n",
       "    </tr>\n",
       "    <tr>\n",
       "      <th>4</th>\n",
       "      <td>France</td>\n",
       "      <td>380</td>\n",
       "      <td>5.519638e+05</td>\n",
       "    </tr>\n",
       "    <tr>\n",
       "      <th>5</th>\n",
       "      <td>Australia</td>\n",
       "      <td>56</td>\n",
       "      <td>4.143114e+05</td>\n",
       "    </tr>\n",
       "    <tr>\n",
       "      <th>6</th>\n",
       "      <td>Spain</td>\n",
       "      <td>88</td>\n",
       "      <td>1.671197e+05</td>\n",
       "    </tr>\n",
       "    <tr>\n",
       "      <th>7</th>\n",
       "      <td>Switzerland</td>\n",
       "      <td>47</td>\n",
       "      <td>1.573259e+05</td>\n",
       "    </tr>\n",
       "    <tr>\n",
       "      <th>8</th>\n",
       "      <td>Japan</td>\n",
       "      <td>19</td>\n",
       "      <td>1.122491e+05</td>\n",
       "    </tr>\n",
       "    <tr>\n",
       "      <th>9</th>\n",
       "      <td>Belgium</td>\n",
       "      <td>98</td>\n",
       "      <td>1.107820e+05</td>\n",
       "    </tr>\n",
       "  </tbody>\n",
       "</table>\n",
       "</div>"
      ],
      "text/plain": [
       "          country  num_orders  total_order_value\n",
       "0  United Kingdom       16581       2.176705e+07\n",
       "1     Netherlands          94       8.516680e+05\n",
       "2            EIRE         258       7.856644e+05\n",
       "3         Germany         443       6.161434e+05\n",
       "4          France         380       5.519638e+05\n",
       "5       Australia          56       4.143114e+05\n",
       "6           Spain          88       1.671197e+05\n",
       "7     Switzerland          47       1.573259e+05\n",
       "8           Japan          19       1.122491e+05\n",
       "9         Belgium          98       1.107820e+05"
      ]
     },
     "execution_count": 269,
     "metadata": {},
     "output_type": "execute_result"
    }
   ],
   "source": [
    "country_total_value.head(10)"
   ]
  },
  {
   "cell_type": "code",
   "execution_count": 270,
   "id": "b340ab46-8c7e-4af4-94f1-abc23ee12240",
   "metadata": {},
   "outputs": [
    {
     "data": {
      "image/png": "[encoded data removed]",
      "text/plain": [
       "<Figure size 1500x1000 with 1 Axes>"
      ]
     },
     "metadata": {},
     "output_type": "display_data"
    }
   ],
   "source": [
    "# visualization\n",
    "\n",
    "plt.figure(figsize=(15,10))\n",
    "\n",
    "plt.subplot(2, 2, 1)\n",
    "sns.barplot(x='total_order_value', y='country', data = country_total_value.sort_values('total_order_value', ascending=False).head(10), color='#8de5a1')\n",
    "plt.title('Top 10 Countries by Total Order Value')\n",
    "plt.xlabel('Order Value')\n",
    "plt.ylabel('Country') \n",
    "plt.tight_layout()\n",
    "plt.show()"
   ]
  },
  {
   "cell_type": "code",
   "execution_count": 271,
   "id": "3d960440-afbb-4e93-abf6-efa780af53a0",
   "metadata": {},
   "outputs": [],
   "source": [
    "country_total_value = clean_data.groupby('country').agg(\n",
    "    num_orders=('invoice', 'nunique'),\n",
    "    total_order_value=('total_order_value', 'sum')\n",
    ").sort_values('total_order_value', ascending=False).reset_index()"
   ]
  },
  {
   "cell_type": "code",
   "execution_count": 272,
   "id": "c63272c0-fdb5-4022-8b4c-34c6b7c833f9",
   "metadata": {},
   "outputs": [
    {
     "data": {
      "text/html": [
       "<div>\n",
       "<style scoped>\n",
       "    .dataframe tbody tr th:only-of-type {\n",
       "        vertical-align: middle;\n",
       "    }\n",
       "\n",
       "    .dataframe tbody tr th {\n",
       "        vertical-align: top;\n",
       "    }\n",
       "\n",
       "    .dataframe thead th {\n",
       "        text-align: right;\n",
       "    }\n",
       "</style>\n",
       "<table border=\"1\" class=\"dataframe\">\n",
       "  <thead>\n",
       "    <tr style=\"text-align: right;\">\n",
       "      <th></th>\n",
       "      <th>country</th>\n",
       "      <th>num_orders</th>\n",
       "      <th>total_order_value</th>\n",
       "    </tr>\n",
       "  </thead>\n",
       "  <tbody>\n",
       "    <tr>\n",
       "      <th>0</th>\n",
       "      <td>United Kingdom</td>\n",
       "      <td>16581</td>\n",
       "      <td>2.176705e+07</td>\n",
       "    </tr>\n",
       "    <tr>\n",
       "      <th>1</th>\n",
       "      <td>Netherlands</td>\n",
       "      <td>94</td>\n",
       "      <td>8.516680e+05</td>\n",
       "    </tr>\n",
       "    <tr>\n",
       "      <th>2</th>\n",
       "      <td>EIRE</td>\n",
       "      <td>258</td>\n",
       "      <td>7.856644e+05</td>\n",
       "    </tr>\n",
       "    <tr>\n",
       "      <th>3</th>\n",
       "      <td>Germany</td>\n",
       "      <td>443</td>\n",
       "      <td>6.161434e+05</td>\n",
       "    </tr>\n",
       "    <tr>\n",
       "      <th>4</th>\n",
       "      <td>France</td>\n",
       "      <td>380</td>\n",
       "      <td>5.519638e+05</td>\n",
       "    </tr>\n",
       "    <tr>\n",
       "      <th>5</th>\n",
       "      <td>Australia</td>\n",
       "      <td>56</td>\n",
       "      <td>4.143114e+05</td>\n",
       "    </tr>\n",
       "    <tr>\n",
       "      <th>6</th>\n",
       "      <td>Spain</td>\n",
       "      <td>88</td>\n",
       "      <td>1.671197e+05</td>\n",
       "    </tr>\n",
       "    <tr>\n",
       "      <th>7</th>\n",
       "      <td>Switzerland</td>\n",
       "      <td>47</td>\n",
       "      <td>1.573259e+05</td>\n",
       "    </tr>\n",
       "    <tr>\n",
       "      <th>8</th>\n",
       "      <td>Japan</td>\n",
       "      <td>19</td>\n",
       "      <td>1.122491e+05</td>\n",
       "    </tr>\n",
       "    <tr>\n",
       "      <th>9</th>\n",
       "      <td>Belgium</td>\n",
       "      <td>98</td>\n",
       "      <td>1.107820e+05</td>\n",
       "    </tr>\n",
       "  </tbody>\n",
       "</table>\n",
       "</div>"
      ],
      "text/plain": [
       "          country  num_orders  total_order_value\n",
       "0  United Kingdom       16581       2.176705e+07\n",
       "1     Netherlands          94       8.516680e+05\n",
       "2            EIRE         258       7.856644e+05\n",
       "3         Germany         443       6.161434e+05\n",
       "4          France         380       5.519638e+05\n",
       "5       Australia          56       4.143114e+05\n",
       "6           Spain          88       1.671197e+05\n",
       "7     Switzerland          47       1.573259e+05\n",
       "8           Japan          19       1.122491e+05\n",
       "9         Belgium          98       1.107820e+05"
      ]
     },
     "execution_count": 272,
     "metadata": {},
     "output_type": "execute_result"
    }
   ],
   "source": [
    "country_total_value.head(10)"
   ]
  },
  {
   "cell_type": "code",
   "execution_count": 273,
   "id": "58cea4db-1bf5-4fb4-8821-cce1ec924371",
   "metadata": {},
   "outputs": [
    {
     "name": "stdout",
     "output_type": "stream",
     "text": [
      "Defaulting to user installation because normal site-packages is not writeable\n",
      "Requirement already satisfied: plotly in /Users/susansmacbook/Library/Python/3.12/lib/python/site-packages (5.23.0)\n",
      "Requirement already satisfied: tenacity>=6.2.0 in /Users/susansmacbook/Library/Python/3.12/lib/python/site-packages (from plotly) (9.0.0)\n",
      "Requirement already satisfied: packaging in /Users/susansmacbook/Library/Python/3.12/lib/python/site-packages (from plotly) (24.0)\n",
      "\n",
      "\u001b[1m[\u001b[0m\u001b[34;49mnotice\u001b[0m\u001b[1;39;49m]\u001b[0m\u001b[39;49m A new release of pip is available: \u001b[0m\u001b[31;49m24.0\u001b[0m\u001b[39;49m -> \u001b[0m\u001b[32;49m24.2\u001b[0m\n",
      "\u001b[1m[\u001b[0m\u001b[34;49mnotice\u001b[0m\u001b[1;39;49m]\u001b[0m\u001b[39;49m To update, run: \u001b[0m\u001b[32;49mpip3 install --upgrade pip\u001b[0m\n"
     ]
    }
   ],
   "source": [
    "# visualization as heatmap // installation\n",
    "\n",
    "!pip3 install plotly"
   ]
  },
  {
   "cell_type": "code",
   "execution_count": 478,
   "id": "ec37f69d-703c-425b-92b2-34b5b5ca5adf",
   "metadata": {},
   "outputs": [
    {
     "data": {
      "application/vnd.plotly.v1+json": {
       "config": {
        "plotlyServerURL": "https://plot.ly"
       },
       "data": [
        {
         "coloraxis": "coloraxis",
         "geo": "geo",
         "hovertemplate": "country=%{location}<br>total_order_value=%{z}<extra></extra>",
         "locationmode": "country names",
         "locations": [
          "United Kingdom",
          "Netherlands",
          "EIRE",
          "Germany",
          "France",
          "Australia",
          "Spain",
          "Switzerland",
          "Japan",
          "Belgium",
          "Sweden",
          "Norway",
          "Portugal",
          "Channel Islands",
          "Finland",
          "Denmark",
          "Italy",
          "Cyprus",
          "Singapore",
          "Austria",
          "Israel",
          "Poland",
          "Greece",
          "Iceland",
          "USA",
          "Canada",
          "Unspecified",
          "Malta",
          "United Arab Emirates",
          "Lebanon",
          "Lithuania",
          "European Community",
          "Brazil",
          "RSA",
          "Czech Republic",
          "Bahrain",
          "Saudi Arabia"
         ],
         "name": "",
         "type": "choropleth",
         "z": [
          21767054.499,
          851668.02,
          785664.36,
          616143.45,
          551963.82,
          414311.43,
          167119.68,
          157325.85,
          112249.11,
          110782.02,
          110486.49,
          97363.92,
          79931.7,
          60442.62,
          55034.64,
          54634.020000000004,
          47460.72,
          39501.48,
          27361.170000000002,
          26228.04,
          21647.52,
          20923.95,
          13276.56,
          12930,
          10741.17,
          9346.32,
          7982.31,
          6211.77,
          5594.34,
          5081.64,
          4983.18,
          3477.75,
          3430.8,
          3006.93,
          2360.2200000000003,
          1645.2,
          437.76000000000005
         ]
        }
       ],
       "layout": {
        "coloraxis": {
         "colorbar": {
          "title": {
           "text": "total_order_value"
          }
         },
         "colorscale": [
          [
           0,
           "rgb(253, 253, 204)"
          ],
          [
           0.09090909090909091,
           "rgb(206, 236, 179)"
          ],
          [
           0.18181818181818182,
           "rgb(156, 219, 165)"
          ],
          [
           0.2727272727272727,
           "rgb(111, 201, 163)"
          ],
          [
           0.36363636363636365,
           "rgb(86, 177, 163)"
          ],
          [
           0.45454545454545453,
           "rgb(76, 153, 160)"
          ],
          [
           0.5454545454545454,
           "rgb(68, 130, 155)"
          ],
          [
           0.6363636363636364,
           "rgb(62, 108, 150)"
          ],
          [
           0.7272727272727273,
           "rgb(62, 82, 143)"
          ],
          [
           0.8181818181818182,
           "rgb(64, 60, 115)"
          ],
          [
           0.9090909090909091,
           "rgb(54, 43, 77)"
          ],
          [
           1,
           "rgb(39, 26, 44)"
          ]
         ]
        },
        "geo": {
         "center": {},
         "domain": {
          "x": [
           0,
           1
          ],
          "y": [
           0,
           1
          ]
         }
        },
        "legend": {
         "tracegroupgap": 0
        },
        "template": {
         "data": {
          "bar": [
           {
            "error_x": {
             "color": "#2a3f5f"
            },
            "error_y": {
             "color": "#2a3f5f"
            },
            "marker": {
             "line": {
              "color": "#E5ECF6",
              "width": 0.5
             },
             "pattern": {
              "fillmode": "overlay",
              "size": 10,
              "solidity": 0.2
             }
            },
            "type": "bar"
           }
          ],
          "barpolar": [
           {
            "marker": {
             "line": {
              "color": "#E5ECF6",
              "width": 0.5
             },
             "pattern": {
              "fillmode": "overlay",
              "size": 10,
              "solidity": 0.2
             }
            },
            "type": "barpolar"
           }
          ],
          "carpet": [
           {
            "aaxis": {
             "endlinecolor": "#2a3f5f",
             "gridcolor": "white",
             "linecolor": "white",
             "minorgridcolor": "white",
             "startlinecolor": "#2a3f5f"
            },
            "baxis": {
             "endlinecolor": "#2a3f5f",
             "gridcolor": "white",
             "linecolor": "white",
             "minorgridcolor": "white",
             "startlinecolor": "#2a3f5f"
            },
            "type": "carpet"
           }
          ],
          "choropleth": [
           {
            "colorbar": {
             "outlinewidth": 0,
             "ticks": ""
            },
            "type": "choropleth"
           }
          ],
          "contour": [
           {
            "colorbar": {
             "outlinewidth": 0,
             "ticks": ""
            },
            "colorscale": [
             [
              0,
              "#0d0887"
             ],
             [
              0.1111111111111111,
              "#46039f"
             ],
             [
              0.2222222222222222,
              "#7201a8"
             ],
             [
              0.3333333333333333,
              "#9c179e"
             ],
             [
              0.4444444444444444,
              "#bd3786"
             ],
             [
              0.5555555555555556,
              "#d8576b"
             ],
             [
              0.6666666666666666,
              "#ed7953"
             ],
             [
              0.7777777777777778,
              "#fb9f3a"
             ],
             [
              0.8888888888888888,
              "#fdca26"
             ],
             [
              1,
              "#f0f921"
             ]
            ],
            "type": "contour"
           }
          ],
          "contourcarpet": [
           {
            "colorbar": {
             "outlinewidth": 0,
             "ticks": ""
            },
            "type": "contourcarpet"
           }
          ],
          "heatmap": [
           {
            "colorbar": {
             "outlinewidth": 0,
             "ticks": ""
            },
            "colorscale": [
             [
              0,
              "#0d0887"
             ],
             [
              0.1111111111111111,
              "#46039f"
             ],
             [
              0.2222222222222222,
              "#7201a8"
             ],
             [
              0.3333333333333333,
              "#9c179e"
             ],
             [
              0.4444444444444444,
              "#bd3786"
             ],
             [
              0.5555555555555556,
              "#d8576b"
             ],
             [
              0.6666666666666666,
              "#ed7953"
             ],
             [
              0.7777777777777778,
              "#fb9f3a"
             ],
             [
              0.8888888888888888,
              "#fdca26"
             ],
             [
              1,
              "#f0f921"
             ]
            ],
            "type": "heatmap"
           }
          ],
          "heatmapgl": [
           {
            "colorbar": {
             "outlinewidth": 0,
             "ticks": ""
            },
            "colorscale": [
             [
              0,
              "#0d0887"
             ],
             [
              0.1111111111111111,
              "#46039f"
             ],
             [
              0.2222222222222222,
              "#7201a8"
             ],
             [
              0.3333333333333333,
              "#9c179e"
             ],
             [
              0.4444444444444444,
              "#bd3786"
             ],
             [
              0.5555555555555556,
              "#d8576b"
             ],
             [
              0.6666666666666666,
              "#ed7953"
             ],
             [
              0.7777777777777778,
              "#fb9f3a"
             ],
             [
              0.8888888888888888,
              "#fdca26"
             ],
             [
              1,
              "#f0f921"
             ]
            ],
            "type": "heatmapgl"
           }
          ],
          "histogram": [
           {
            "marker": {
             "pattern": {
              "fillmode": "overlay",
              "size": 10,
              "solidity": 0.2
             }
            },
            "type": "histogram"
           }
          ],
          "histogram2d": [
           {
            "colorbar": {
             "outlinewidth": 0,
             "ticks": ""
            },
            "colorscale": [
             [
              0,
              "#0d0887"
             ],
             [
              0.1111111111111111,
              "#46039f"
             ],
             [
              0.2222222222222222,
              "#7201a8"
             ],
             [
              0.3333333333333333,
              "#9c179e"
             ],
             [
              0.4444444444444444,
              "#bd3786"
             ],
             [
              0.5555555555555556,
              "#d8576b"
             ],
             [
              0.6666666666666666,
              "#ed7953"
             ],
             [
              0.7777777777777778,
              "#fb9f3a"
             ],
             [
              0.8888888888888888,
              "#fdca26"
             ],
             [
              1,
              "#f0f921"
             ]
            ],
            "type": "histogram2d"
           }
          ],
          "histogram2dcontour": [
           {
            "colorbar": {
             "outlinewidth": 0,
             "ticks": ""
            },
            "colorscale": [
             [
              0,
              "#0d0887"
             ],
             [
              0.1111111111111111,
              "#46039f"
             ],
             [
              0.2222222222222222,
              "#7201a8"
             ],
             [
              0.3333333333333333,
              "#9c179e"
             ],
             [
              0.4444444444444444,
              "#bd3786"
             ],
             [
              0.5555555555555556,
              "#d8576b"
             ],
             [
              0.6666666666666666,
              "#ed7953"
             ],
             [
              0.7777777777777778,
              "#fb9f3a"
             ],
             [
              0.8888888888888888,
              "#fdca26"
             ],
             [
              1,
              "#f0f921"
             ]
            ],
            "type": "histogram2dcontour"
           }
          ],
          "mesh3d": [
           {
            "colorbar": {
             "outlinewidth": 0,
             "ticks": ""
            },
            "type": "mesh3d"
           }
          ],
          "parcoords": [
           {
            "line": {
             "colorbar": {
              "outlinewidth": 0,
              "ticks": ""
             }
            },
            "type": "parcoords"
           }
          ],
          "pie": [
           {
            "automargin": true,
            "type": "pie"
           }
          ],
          "scatter": [
           {
            "fillpattern": {
             "fillmode": "overlay",
             "size": 10,
             "solidity": 0.2
            },
            "type": "scatter"
           }
          ],
          "scatter3d": [
           {
            "line": {
             "colorbar": {
              "outlinewidth": 0,
              "ticks": ""
             }
            },
            "marker": {
             "colorbar": {
              "outlinewidth": 0,
              "ticks": ""
             }
            },
            "type": "scatter3d"
           }
          ],
          "scattercarpet": [
           {
            "marker": {
             "colorbar": {
              "outlinewidth": 0,
              "ticks": ""
             }
            },
            "type": "scattercarpet"
           }
          ],
          "scattergeo": [
           {
            "marker": {
             "colorbar": {
              "outlinewidth": 0,
              "ticks": ""
             }
            },
            "type": "scattergeo"
           }
          ],
          "scattergl": [
           {
            "marker": {
             "colorbar": {
              "outlinewidth": 0,
              "ticks": ""
             }
            },
            "type": "scattergl"
           }
          ],
          "scattermapbox": [
           {
            "marker": {
             "colorbar": {
              "outlinewidth": 0,
              "ticks": ""
             }
            },
            "type": "scattermapbox"
           }
          ],
          "scatterpolar": [
           {
            "marker": {
             "colorbar": {
              "outlinewidth": 0,
              "ticks": ""
             }
            },
            "type": "scatterpolar"
           }
          ],
          "scatterpolargl": [
           {
            "marker": {
             "colorbar": {
              "outlinewidth": 0,
              "ticks": ""
             }
            },
            "type": "scatterpolargl"
           }
          ],
          "scatterternary": [
           {
            "marker": {
             "colorbar": {
              "outlinewidth": 0,
              "ticks": ""
             }
            },
            "type": "scatterternary"
           }
          ],
          "surface": [
           {
            "colorbar": {
             "outlinewidth": 0,
             "ticks": ""
            },
            "colorscale": [
             [
              0,
              "#0d0887"
             ],
             [
              0.1111111111111111,
              "#46039f"
             ],
             [
              0.2222222222222222,
              "#7201a8"
             ],
             [
              0.3333333333333333,
              "#9c179e"
             ],
             [
              0.4444444444444444,
              "#bd3786"
             ],
             [
              0.5555555555555556,
              "#d8576b"
             ],
             [
              0.6666666666666666,
              "#ed7953"
             ],
             [
              0.7777777777777778,
              "#fb9f3a"
             ],
             [
              0.8888888888888888,
              "#fdca26"
             ],
             [
              1,
              "#f0f921"
             ]
            ],
            "type": "surface"
           }
          ],
          "table": [
           {
            "cells": {
             "fill": {
              "color": "#EBF0F8"
             },
             "line": {
              "color": "white"
             }
            },
            "header": {
             "fill": {
              "color": "#C8D4E3"
             },
             "line": {
              "color": "white"
             }
            },
            "type": "table"
           }
          ]
         },
         "layout": {
          "annotationdefaults": {
           "arrowcolor": "#2a3f5f",
           "arrowhead": 0,
           "arrowwidth": 1
          },
          "autotypenumbers": "strict",
          "coloraxis": {
           "colorbar": {
            "outlinewidth": 0,
            "ticks": ""
           }
          },
          "colorscale": {
           "diverging": [
            [
             0,
             "#8e0152"
            ],
            [
             0.1,
             "#c51b7d"
            ],
            [
             0.2,
             "#de77ae"
            ],
            [
             0.3,
             "#f1b6da"
            ],
            [
             0.4,
             "#fde0ef"
            ],
            [
             0.5,
             "#f7f7f7"
            ],
            [
             0.6,
             "#e6f5d0"
            ],
            [
             0.7,
             "#b8e186"
            ],
            [
             0.8,
             "#7fbc41"
            ],
            [
             0.9,
             "#4d9221"
            ],
            [
             1,
             "#276419"
            ]
           ],
           "sequential": [
            [
             0,
             "#0d0887"
            ],
            [
             0.1111111111111111,
             "#46039f"
            ],
            [
             0.2222222222222222,
             "#7201a8"
            ],
            [
             0.3333333333333333,
             "#9c179e"
            ],
            [
             0.4444444444444444,
             "#bd3786"
            ],
            [
             0.5555555555555556,
             "#d8576b"
            ],
            [
             0.6666666666666666,
             "#ed7953"
            ],
            [
             0.7777777777777778,
             "#fb9f3a"
            ],
            [
             0.8888888888888888,
             "#fdca26"
            ],
            [
             1,
             "#f0f921"
            ]
           ],
           "sequentialminus": [
            [
             0,
             "#0d0887"
            ],
            [
             0.1111111111111111,
             "#46039f"
            ],
            [
             0.2222222222222222,
             "#7201a8"
            ],
            [
             0.3333333333333333,
             "#9c179e"
            ],
            [
             0.4444444444444444,
             "#bd3786"
            ],
            [
             0.5555555555555556,
             "#d8576b"
            ],
            [
             0.6666666666666666,
             "#ed7953"
            ],
            [
             0.7777777777777778,
             "#fb9f3a"
            ],
            [
             0.8888888888888888,
             "#fdca26"
            ],
            [
             1,
             "#f0f921"
            ]
           ]
          },
          "colorway": [
           "#636efa",
           "#EF553B",
           "#00cc96",
           "#ab63fa",
           "#FFA15A",
           "#19d3f3",
           "#FF6692",
           "#B6E880",
           "#FF97FF",
           "#FECB52"
          ],
          "font": {
           "color": "#2a3f5f"
          },
          "geo": {
           "bgcolor": "white",
           "lakecolor": "white",
           "landcolor": "#E5ECF6",
           "showlakes": true,
           "showland": true,
           "subunitcolor": "white"
          },
          "hoverlabel": {
           "align": "left"
          },
          "hovermode": "closest",
          "mapbox": {
           "style": "light"
          },
          "paper_bgcolor": "white",
          "plot_bgcolor": "#E5ECF6",
          "polar": {
           "angularaxis": {
            "gridcolor": "white",
            "linecolor": "white",
            "ticks": ""
           },
           "bgcolor": "#E5ECF6",
           "radialaxis": {
            "gridcolor": "white",
            "linecolor": "white",
            "ticks": ""
           }
          },
          "scene": {
           "xaxis": {
            "backgroundcolor": "#E5ECF6",
            "gridcolor": "white",
            "gridwidth": 2,
            "linecolor": "white",
            "showbackground": true,
            "ticks": "",
            "zerolinecolor": "white"
           },
           "yaxis": {
            "backgroundcolor": "#E5ECF6",
            "gridcolor": "white",
            "gridwidth": 2,
            "linecolor": "white",
            "showbackground": true,
            "ticks": "",
            "zerolinecolor": "white"
           },
           "zaxis": {
            "backgroundcolor": "#E5ECF6",
            "gridcolor": "white",
            "gridwidth": 2,
            "linecolor": "white",
            "showbackground": true,
            "ticks": "",
            "zerolinecolor": "white"
           }
          },
          "shapedefaults": {
           "line": {
            "color": "#2a3f5f"
           }
          },
          "ternary": {
           "aaxis": {
            "gridcolor": "white",
            "linecolor": "white",
            "ticks": ""
           },
           "baxis": {
            "gridcolor": "white",
            "linecolor": "white",
            "ticks": ""
           },
           "bgcolor": "#E5ECF6",
           "caxis": {
            "gridcolor": "white",
            "linecolor": "white",
            "ticks": ""
           }
          },
          "title": {
           "x": 0.05
          },
          "xaxis": {
           "automargin": true,
           "gridcolor": "white",
           "linecolor": "white",
           "ticks": "",
           "title": {
            "standoff": 15
           },
           "zerolinecolor": "white",
           "zerolinewidth": 2
          },
          "yaxis": {
           "automargin": true,
           "gridcolor": "white",
           "linecolor": "white",
           "ticks": "",
           "title": {
            "standoff": 15
           },
           "zerolinecolor": "white",
           "zerolinewidth": 2
          }
         }
        },
        "title": {
         "text": "Sales Density by Country"
        }
       }
      },
      "text/html": [
       "<div>                            <div id=\"2dcd39ab-c50e-4192-8d18-cedd93271064\" class=\"plotly-graph-div\" style=\"height:525px; width:100%;\"></div>            <script type=\"text/javascript\">                require([\"plotly\"], function(Plotly) {                    window.PLOTLYENV=window.PLOTLYENV || {};                                    if (document.getElementById(\"2dcd39ab-c50e-4192-8d18-cedd93271064\")) {                    Plotly.newPlot(                        \"2dcd39ab-c50e-4192-8d18-cedd93271064\",                        [{\"coloraxis\":\"coloraxis\",\"geo\":\"geo\",\"hovertemplate\":\"country=%{location}\\u003cbr\\u003etotal_order_value=%{z}\\u003cextra\\u003e\\u003c\\u002fextra\\u003e\",\"locationmode\":\"country names\",\"locations\":[\"United Kingdom\",\"Netherlands\",\"EIRE\",\"Germany\",\"France\",\"Australia\",\"Spain\",\"Switzerland\",\"Japan\",\"Belgium\",\"Sweden\",\"Norway\",\"Portugal\",\"Channel Islands\",\"Finland\",\"Denmark\",\"Italy\",\"Cyprus\",\"Singapore\",\"Austria\",\"Israel\",\"Poland\",\"Greece\",\"Iceland\",\"USA\",\"Canada\",\"Unspecified\",\"Malta\",\"United Arab Emirates\",\"Lebanon\",\"Lithuania\",\"European Community\",\"Brazil\",\"RSA\",\"Czech Republic\",\"Bahrain\",\"Saudi Arabia\"],\"name\":\"\",\"z\":[21767054.499,851668.02,785664.36,616143.45,551963.82,414311.43,167119.68,157325.85,112249.11,110782.02,110486.49,97363.92,79931.7,60442.62,55034.64,54634.020000000004,47460.72,39501.48,27361.170000000002,26228.04,21647.52,20923.95,13276.56,12930.0,10741.17,9346.32,7982.31,6211.77,5594.34,5081.64,4983.18,3477.75,3430.8,3006.93,2360.2200000000003,1645.2,437.76000000000005],\"type\":\"choropleth\"}],                        {\"template\":{\"data\":{\"histogram2dcontour\":[{\"type\":\"histogram2dcontour\",\"colorbar\":{\"outlinewidth\":0,\"ticks\":\"\"},\"colorscale\":[[0.0,\"#0d0887\"],[0.1111111111111111,\"#46039f\"],[0.2222222222222222,\"#7201a8\"],[0.3333333333333333,\"#9c179e\"],[0.4444444444444444,\"#bd3786\"],[0.5555555555555556,\"#d8576b\"],[0.6666666666666666,\"#ed7953\"],[0.7777777777777778,\"#fb9f3a\"],[0.8888888888888888,\"#fdca26\"],[1.0,\"#f0f921\"]]}],\"choropleth\":[{\"type\":\"choropleth\",\"colorbar\":{\"outlinewidth\":0,\"ticks\":\"\"}}],\"histogram2d\":[{\"type\":\"histogram2d\",\"colorbar\":{\"outlinewidth\":0,\"ticks\":\"\"},\"colorscale\":[[0.0,\"#0d0887\"],[0.1111111111111111,\"#46039f\"],[0.2222222222222222,\"#7201a8\"],[0.3333333333333333,\"#9c179e\"],[0.4444444444444444,\"#bd3786\"],[0.5555555555555556,\"#d8576b\"],[0.6666666666666666,\"#ed7953\"],[0.7777777777777778,\"#fb9f3a\"],[0.8888888888888888,\"#fdca26\"],[1.0,\"#f0f921\"]]}],\"heatmap\":[{\"type\":\"heatmap\",\"colorbar\":{\"outlinewidth\":0,\"ticks\":\"\"},\"colorscale\":[[0.0,\"#0d0887\"],[0.1111111111111111,\"#46039f\"],[0.2222222222222222,\"#7201a8\"],[0.3333333333333333,\"#9c179e\"],[0.4444444444444444,\"#bd3786\"],[0.5555555555555556,\"#d8576b\"],[0.6666666666666666,\"#ed7953\"],[0.7777777777777778,\"#fb9f3a\"],[0.8888888888888888,\"#fdca26\"],[1.0,\"#f0f921\"]]}],\"heatmapgl\":[{\"type\":\"heatmapgl\",\"colorbar\":{\"outlinewidth\":0,\"ticks\":\"\"},\"colorscale\":[[0.0,\"#0d0887\"],[0.1111111111111111,\"#46039f\"],[0.2222222222222222,\"#7201a8\"],[0.3333333333333333,\"#9c179e\"],[0.4444444444444444,\"#bd3786\"],[0.5555555555555556,\"#d8576b\"],[0.6666666666666666,\"#ed7953\"],[0.7777777777777778,\"#fb9f3a\"],[0.8888888888888888,\"#fdca26\"],[1.0,\"#f0f921\"]]}],\"contourcarpet\":[{\"type\":\"contourcarpet\",\"colorbar\":{\"outlinewidth\":0,\"ticks\":\"\"}}],\"contour\":[{\"type\":\"contour\",\"colorbar\":{\"outlinewidth\":0,\"ticks\":\"\"},\"colorscale\":[[0.0,\"#0d0887\"],[0.1111111111111111,\"#46039f\"],[0.2222222222222222,\"#7201a8\"],[0.3333333333333333,\"#9c179e\"],[0.4444444444444444,\"#bd3786\"],[0.5555555555555556,\"#d8576b\"],[0.6666666666666666,\"#ed7953\"],[0.7777777777777778,\"#fb9f3a\"],[0.8888888888888888,\"#fdca26\"],[1.0,\"#f0f921\"]]}],\"surface\":[{\"type\":\"surface\",\"colorbar\":{\"outlinewidth\":0,\"ticks\":\"\"},\"colorscale\":[[0.0,\"#0d0887\"],[0.1111111111111111,\"#46039f\"],[0.2222222222222222,\"#7201a8\"],[0.3333333333333333,\"#9c179e\"],[0.4444444444444444,\"#bd3786\"],[0.5555555555555556,\"#d8576b\"],[0.6666666666666666,\"#ed7953\"],[0.7777777777777778,\"#fb9f3a\"],[0.8888888888888888,\"#fdca26\"],[1.0,\"#f0f921\"]]}],\"mesh3d\":[{\"type\":\"mesh3d\",\"colorbar\":{\"outlinewidth\":0,\"ticks\":\"\"}}],\"scatter\":[{\"fillpattern\":{\"fillmode\":\"overlay\",\"size\":10,\"solidity\":0.2},\"type\":\"scatter\"}],\"parcoords\":[{\"type\":\"parcoords\",\"line\":{\"colorbar\":{\"outlinewidth\":0,\"ticks\":\"\"}}}],\"scatterpolargl\":[{\"type\":\"scatterpolargl\",\"marker\":{\"colorbar\":{\"outlinewidth\":0,\"ticks\":\"\"}}}],\"bar\":[{\"error_x\":{\"color\":\"#2a3f5f\"},\"error_y\":{\"color\":\"#2a3f5f\"},\"marker\":{\"line\":{\"color\":\"#E5ECF6\",\"width\":0.5},\"pattern\":{\"fillmode\":\"overlay\",\"size\":10,\"solidity\":0.2}},\"type\":\"bar\"}],\"scattergeo\":[{\"type\":\"scattergeo\",\"marker\":{\"colorbar\":{\"outlinewidth\":0,\"ticks\":\"\"}}}],\"scatterpolar\":[{\"type\":\"scatterpolar\",\"marker\":{\"colorbar\":{\"outlinewidth\":0,\"ticks\":\"\"}}}],\"histogram\":[{\"marker\":{\"pattern\":{\"fillmode\":\"overlay\",\"size\":10,\"solidity\":0.2}},\"type\":\"histogram\"}],\"scattergl\":[{\"type\":\"scattergl\",\"marker\":{\"colorbar\":{\"outlinewidth\":0,\"ticks\":\"\"}}}],\"scatter3d\":[{\"type\":\"scatter3d\",\"line\":{\"colorbar\":{\"outlinewidth\":0,\"ticks\":\"\"}},\"marker\":{\"colorbar\":{\"outlinewidth\":0,\"ticks\":\"\"}}}],\"scattermapbox\":[{\"type\":\"scattermapbox\",\"marker\":{\"colorbar\":{\"outlinewidth\":0,\"ticks\":\"\"}}}],\"scatterternary\":[{\"type\":\"scatterternary\",\"marker\":{\"colorbar\":{\"outlinewidth\":0,\"ticks\":\"\"}}}],\"scattercarpet\":[{\"type\":\"scattercarpet\",\"marker\":{\"colorbar\":{\"outlinewidth\":0,\"ticks\":\"\"}}}],\"carpet\":[{\"aaxis\":{\"endlinecolor\":\"#2a3f5f\",\"gridcolor\":\"white\",\"linecolor\":\"white\",\"minorgridcolor\":\"white\",\"startlinecolor\":\"#2a3f5f\"},\"baxis\":{\"endlinecolor\":\"#2a3f5f\",\"gridcolor\":\"white\",\"linecolor\":\"white\",\"minorgridcolor\":\"white\",\"startlinecolor\":\"#2a3f5f\"},\"type\":\"carpet\"}],\"table\":[{\"cells\":{\"fill\":{\"color\":\"#EBF0F8\"},\"line\":{\"color\":\"white\"}},\"header\":{\"fill\":{\"color\":\"#C8D4E3\"},\"line\":{\"color\":\"white\"}},\"type\":\"table\"}],\"barpolar\":[{\"marker\":{\"line\":{\"color\":\"#E5ECF6\",\"width\":0.5},\"pattern\":{\"fillmode\":\"overlay\",\"size\":10,\"solidity\":0.2}},\"type\":\"barpolar\"}],\"pie\":[{\"automargin\":true,\"type\":\"pie\"}]},\"layout\":{\"autotypenumbers\":\"strict\",\"colorway\":[\"#636efa\",\"#EF553B\",\"#00cc96\",\"#ab63fa\",\"#FFA15A\",\"#19d3f3\",\"#FF6692\",\"#B6E880\",\"#FF97FF\",\"#FECB52\"],\"font\":{\"color\":\"#2a3f5f\"},\"hovermode\":\"closest\",\"hoverlabel\":{\"align\":\"left\"},\"paper_bgcolor\":\"white\",\"plot_bgcolor\":\"#E5ECF6\",\"polar\":{\"bgcolor\":\"#E5ECF6\",\"angularaxis\":{\"gridcolor\":\"white\",\"linecolor\":\"white\",\"ticks\":\"\"},\"radialaxis\":{\"gridcolor\":\"white\",\"linecolor\":\"white\",\"ticks\":\"\"}},\"ternary\":{\"bgcolor\":\"#E5ECF6\",\"aaxis\":{\"gridcolor\":\"white\",\"linecolor\":\"white\",\"ticks\":\"\"},\"baxis\":{\"gridcolor\":\"white\",\"linecolor\":\"white\",\"ticks\":\"\"},\"caxis\":{\"gridcolor\":\"white\",\"linecolor\":\"white\",\"ticks\":\"\"}},\"coloraxis\":{\"colorbar\":{\"outlinewidth\":0,\"ticks\":\"\"}},\"colorscale\":{\"sequential\":[[0.0,\"#0d0887\"],[0.1111111111111111,\"#46039f\"],[0.2222222222222222,\"#7201a8\"],[0.3333333333333333,\"#9c179e\"],[0.4444444444444444,\"#bd3786\"],[0.5555555555555556,\"#d8576b\"],[0.6666666666666666,\"#ed7953\"],[0.7777777777777778,\"#fb9f3a\"],[0.8888888888888888,\"#fdca26\"],[1.0,\"#f0f921\"]],\"sequentialminus\":[[0.0,\"#0d0887\"],[0.1111111111111111,\"#46039f\"],[0.2222222222222222,\"#7201a8\"],[0.3333333333333333,\"#9c179e\"],[0.4444444444444444,\"#bd3786\"],[0.5555555555555556,\"#d8576b\"],[0.6666666666666666,\"#ed7953\"],[0.7777777777777778,\"#fb9f3a\"],[0.8888888888888888,\"#fdca26\"],[1.0,\"#f0f921\"]],\"diverging\":[[0,\"#8e0152\"],[0.1,\"#c51b7d\"],[0.2,\"#de77ae\"],[0.3,\"#f1b6da\"],[0.4,\"#fde0ef\"],[0.5,\"#f7f7f7\"],[0.6,\"#e6f5d0\"],[0.7,\"#b8e186\"],[0.8,\"#7fbc41\"],[0.9,\"#4d9221\"],[1,\"#276419\"]]},\"xaxis\":{\"gridcolor\":\"white\",\"linecolor\":\"white\",\"ticks\":\"\",\"title\":{\"standoff\":15},\"zerolinecolor\":\"white\",\"automargin\":true,\"zerolinewidth\":2},\"yaxis\":{\"gridcolor\":\"white\",\"linecolor\":\"white\",\"ticks\":\"\",\"title\":{\"standoff\":15},\"zerolinecolor\":\"white\",\"automargin\":true,\"zerolinewidth\":2},\"scene\":{\"xaxis\":{\"backgroundcolor\":\"#E5ECF6\",\"gridcolor\":\"white\",\"linecolor\":\"white\",\"showbackground\":true,\"ticks\":\"\",\"zerolinecolor\":\"white\",\"gridwidth\":2},\"yaxis\":{\"backgroundcolor\":\"#E5ECF6\",\"gridcolor\":\"white\",\"linecolor\":\"white\",\"showbackground\":true,\"ticks\":\"\",\"zerolinecolor\":\"white\",\"gridwidth\":2},\"zaxis\":{\"backgroundcolor\":\"#E5ECF6\",\"gridcolor\":\"white\",\"linecolor\":\"white\",\"showbackground\":true,\"ticks\":\"\",\"zerolinecolor\":\"white\",\"gridwidth\":2}},\"shapedefaults\":{\"line\":{\"color\":\"#2a3f5f\"}},\"annotationdefaults\":{\"arrowcolor\":\"#2a3f5f\",\"arrowhead\":0,\"arrowwidth\":1},\"geo\":{\"bgcolor\":\"white\",\"landcolor\":\"#E5ECF6\",\"subunitcolor\":\"white\",\"showland\":true,\"showlakes\":true,\"lakecolor\":\"white\"},\"title\":{\"x\":0.05},\"mapbox\":{\"style\":\"light\"}}},\"geo\":{\"domain\":{\"x\":[0.0,1.0],\"y\":[0.0,1.0]},\"center\":{}},\"coloraxis\":{\"colorbar\":{\"title\":{\"text\":\"total_order_value\"}},\"colorscale\":[[0.0,\"rgb(253, 253, 204)\"],[0.09090909090909091,\"rgb(206, 236, 179)\"],[0.18181818181818182,\"rgb(156, 219, 165)\"],[0.2727272727272727,\"rgb(111, 201, 163)\"],[0.36363636363636365,\"rgb(86, 177, 163)\"],[0.45454545454545453,\"rgb(76, 153, 160)\"],[0.5454545454545454,\"rgb(68, 130, 155)\"],[0.6363636363636364,\"rgb(62, 108, 150)\"],[0.7272727272727273,\"rgb(62, 82, 143)\"],[0.8181818181818182,\"rgb(64, 60, 115)\"],[0.9090909090909091,\"rgb(54, 43, 77)\"],[1.0,\"rgb(39, 26, 44)\"]]},\"legend\":{\"tracegroupgap\":0},\"title\":{\"text\":\"Sales Density by Country\"}},                        {\"responsive\": true}                    ).then(function(){\n",
       "                            \n",
       "var gd = document.getElementById('2dcd39ab-c50e-4192-8d18-cedd93271064');\n",
       "var x = new MutationObserver(function (mutations, observer) {{\n",
       "        var display = window.getComputedStyle(gd).display;\n",
       "        if (!display || display === 'none') {{\n",
       "            console.log([gd, 'removed!']);\n",
       "            Plotly.purge(gd);\n",
       "            observer.disconnect();\n",
       "        }}\n",
       "}});\n",
       "\n",
       "// Listen for the removal of the full notebook cells\n",
       "var notebookContainer = gd.closest('#notebook-container');\n",
       "if (notebookContainer) {{\n",
       "    x.observe(notebookContainer, {childList: true});\n",
       "}}\n",
       "\n",
       "// Listen for the clearing of the current output cell\n",
       "var outputEl = gd.closest('.output');\n",
       "if (outputEl) {{\n",
       "    x.observe(outputEl, {childList: true});\n",
       "}}\n",
       "\n",
       "                        })                };                });            </script>        </div>"
      ]
     },
     "metadata": {},
     "output_type": "display_data"
    }
   ],
   "source": [
    "# visualization as heatmap\n",
    "\n",
    "import plotly.express as px\n",
    "\n",
    "fig = px.choropleth(country_total_value, \n",
    "                    locations='country',\n",
    "                    locationmode='country names', \n",
    "                    color='total_order_value',\n",
    "                    color_continuous_scale='deep',\n",
    "                    title='Sales Density by Country')\n",
    "\n",
    "# Show the figure\n",
    "fig.show()"
   ]
  },
  {
   "cell_type": "markdown",
   "id": "caf83565-3e4d-456d-9ac5-5edbc1d3a826",
   "metadata": {},
   "source": [
    "2.2.1.2 Least Popular Regions"
   ]
  },
  {
   "cell_type": "code",
   "execution_count": 275,
   "id": "38bdb3d6-1ab3-479f-99c7-cbb1d78702e4",
   "metadata": {},
   "outputs": [],
   "source": [
    "country_low = clean_data.groupby('country').agg(\n",
    "    num_orders=('invoice', 'nunique'),\n",
    "    total_order_value=('total_order_value', 'sum')\n",
    ").sort_values('num_orders', ascending=True).reset_index()"
   ]
  },
  {
   "cell_type": "code",
   "execution_count": 276,
   "id": "9c81312f-c2d7-43e9-8d71-dbf46a47cb4b",
   "metadata": {},
   "outputs": [
    {
     "data": {
      "text/html": [
       "<div>\n",
       "<style scoped>\n",
       "    .dataframe tbody tr th:only-of-type {\n",
       "        vertical-align: middle;\n",
       "    }\n",
       "\n",
       "    .dataframe tbody tr th {\n",
       "        vertical-align: top;\n",
       "    }\n",
       "\n",
       "    .dataframe thead th {\n",
       "        text-align: right;\n",
       "    }\n",
       "</style>\n",
       "<table border=\"1\" class=\"dataframe\">\n",
       "  <thead>\n",
       "    <tr style=\"text-align: right;\">\n",
       "      <th></th>\n",
       "      <th>country</th>\n",
       "      <th>num_orders</th>\n",
       "      <th>total_order_value</th>\n",
       "    </tr>\n",
       "  </thead>\n",
       "  <tbody>\n",
       "    <tr>\n",
       "      <th>0</th>\n",
       "      <td>Brazil</td>\n",
       "      <td>1</td>\n",
       "      <td>3430.80</td>\n",
       "    </tr>\n",
       "    <tr>\n",
       "      <th>1</th>\n",
       "      <td>Saudi Arabia</td>\n",
       "      <td>1</td>\n",
       "      <td>437.76</td>\n",
       "    </tr>\n",
       "    <tr>\n",
       "      <th>2</th>\n",
       "      <td>RSA</td>\n",
       "      <td>1</td>\n",
       "      <td>3006.93</td>\n",
       "    </tr>\n",
       "    <tr>\n",
       "      <th>3</th>\n",
       "      <td>Lebanon</td>\n",
       "      <td>1</td>\n",
       "      <td>5081.64</td>\n",
       "    </tr>\n",
       "    <tr>\n",
       "      <th>4</th>\n",
       "      <td>Czech Republic</td>\n",
       "      <td>2</td>\n",
       "      <td>2360.22</td>\n",
       "    </tr>\n",
       "    <tr>\n",
       "      <th>5</th>\n",
       "      <td>Bahrain</td>\n",
       "      <td>2</td>\n",
       "      <td>1645.20</td>\n",
       "    </tr>\n",
       "    <tr>\n",
       "      <th>6</th>\n",
       "      <td>United Arab Emirates</td>\n",
       "      <td>2</td>\n",
       "      <td>5594.34</td>\n",
       "    </tr>\n",
       "    <tr>\n",
       "      <th>7</th>\n",
       "      <td>European Community</td>\n",
       "      <td>3</td>\n",
       "      <td>3477.75</td>\n",
       "    </tr>\n",
       "    <tr>\n",
       "      <th>8</th>\n",
       "      <td>Singapore</td>\n",
       "      <td>4</td>\n",
       "      <td>27361.17</td>\n",
       "    </tr>\n",
       "    <tr>\n",
       "      <th>9</th>\n",
       "      <td>Lithuania</td>\n",
       "      <td>4</td>\n",
       "      <td>4983.18</td>\n",
       "    </tr>\n",
       "  </tbody>\n",
       "</table>\n",
       "</div>"
      ],
      "text/plain": [
       "                country  num_orders  total_order_value\n",
       "0                Brazil           1            3430.80\n",
       "1          Saudi Arabia           1             437.76\n",
       "2                   RSA           1            3006.93\n",
       "3               Lebanon           1            5081.64\n",
       "4        Czech Republic           2            2360.22\n",
       "5               Bahrain           2            1645.20\n",
       "6  United Arab Emirates           2            5594.34\n",
       "7    European Community           3            3477.75\n",
       "8             Singapore           4           27361.17\n",
       "9             Lithuania           4            4983.18"
      ]
     },
     "execution_count": 276,
     "metadata": {},
     "output_type": "execute_result"
    }
   ],
   "source": [
    "country_low.head(10)"
   ]
  },
  {
   "cell_type": "code",
   "execution_count": 277,
   "id": "70eac4ab-0e87-439e-87ff-e388c3cff49b",
   "metadata": {},
   "outputs": [
    {
     "data": {
      "image/png": "[encoded data removed]",
      "text/plain": [
       "<Figure size 1500x1000 with 1 Axes>"
      ]
     },
     "metadata": {},
     "output_type": "display_data"
    }
   ],
   "source": [
    "# visualization\n",
    "\n",
    "plt.figure(figsize=(15,10))\n",
    "\n",
    "plt.subplot(2, 2, 1)\n",
    "sns.barplot(x='total_order_value', y='country', data = country_low.sort_values('total_order_value', ascending=False).tail(10), color='#ff9f9b')\n",
    "plt.title('Least 10 Countries by Order Value')\n",
    "plt.xlabel('Order Value')\n",
    "plt.ylabel('Country') \n",
    "plt.tight_layout()\n",
    "plt.show()"
   ]
  },
  {
   "cell_type": "markdown",
   "id": "c00bc9f2-4995-42b8-abea-75a58d9536e3",
   "metadata": {},
   "source": [
    "Findings:\n",
    "- majority of orders come from the UK market - in number of orders and total value (not surprising)\n",
    "- Germany, France and EIRE, which are neighbour countries, follow in order of number of orders - with a major gap to the UK market \n",
    "- but: second place, in terms of total order value, is taken by the Netherlands, followed by EIRE, Germany, France and Australia - also with a major gap to the UK market\n",
    "\n",
    "Explanation:\n",
    "- the UK market ist pioneer and the main market, for sure\n",
    "- neighbour countries, like Germany, Netherlands, EIRE and France follow in the ranking\n",
    "  --> the further away from the main market, the more irrelevant the offer is to other countries; except Australia, which is part of the Commonwealth and therefore also attractive for the main market\n",
    "  --> another exception is Japan, which shows a low number of orders but a high total order value --> this could be a pretty attractive market for hihg-pricing products\n",
    "- although Australia is part of the top 10 countries with the most orders, orders with a higher value are predominantly to be expected here, as delivery costs and distances are still long\n",
    "- lowest order values and number of orders come from mid-east areas "
   ]
  },
  {
   "cell_type": "markdown",
   "id": "1fafe03c-3491-4195-b906-effbae132615",
   "metadata": {},
   "source": [
    "2.2.1.3 Segmentation by average Price per order "
   ]
  },
  {
   "cell_type": "code",
   "execution_count": 278,
   "id": "6bffac57-6eea-4518-8ef0-bd4cc4c4a0f0",
   "metadata": {},
   "outputs": [
    {
     "data": {
      "text/plain": [
       "country\n",
       "Lebanon                 5.387556\n",
       "Cyprus                  5.208752\n",
       "Bahrain                 4.644118\n",
       "Brazil                  4.456250\n",
       "RSA                     4.352632\n",
       "European Community      4.242105\n",
       "Channel Islands         4.148794\n",
       "EIRE                    3.980158\n",
       "Italy                   3.739825\n",
       "Singapore               3.679488\n",
       "Malta                   3.671468\n",
       "Israel                  3.667714\n",
       "Greece                  3.649930\n",
       "Poland                  3.622185\n",
       "Norway                  3.271373\n",
       "Unspecified             3.219710\n",
       "Spain                   3.207771\n",
       "Belgium                 3.042817\n",
       "Austria                 2.984115\n",
       "Finland                 2.962658\n",
       "United Kingdom          2.902129\n",
       "United Arab Emirates    2.871493\n",
       "Switzerland             2.864865\n",
       "Lithuania               2.841143\n",
       "Australia               2.752113\n",
       "Germany                 2.721232\n",
       "France                  2.674306\n",
       "Iceland                 2.644011\n",
       "Denmark                 2.636376\n",
       "Portugal                2.550664\n",
       "Netherlands             2.444854\n",
       "Canada                  2.397600\n",
       "Saudi Arabia            2.351111\n",
       "USA                     2.308939\n",
       "Japan                   2.047383\n",
       "Sweden                  1.996932\n",
       "Czech Republic          1.594583\n",
       "Name: price, dtype: float64"
      ]
     },
     "execution_count": 278,
     "metadata": {},
     "output_type": "execute_result"
    }
   ],
   "source": [
    "# countries by average price of order \n",
    "clean_data.groupby('country')['price'].mean().sort_values(ascending=False)"
   ]
  },
  {
   "cell_type": "code",
   "execution_count": 279,
   "id": "f67974e9-8cf6-47a5-b876-00c26eb70b0d",
   "metadata": {},
   "outputs": [],
   "source": [
    "# distribution of price by country\n",
    "country_price=clean_data['country'].unique()"
   ]
  },
  {
   "cell_type": "code",
   "execution_count": 280,
   "id": "fb6f396e-42fe-4e58-ae26-eb7d5ff70910",
   "metadata": {},
   "outputs": [
    {
     "data": {
      "image/png": "[encoded data removed]",
      "text/plain": [
       "<Figure size 1800x800 with 1 Axes>"
      ]
     },
     "metadata": {},
     "output_type": "display_data"
    }
   ],
   "source": [
    "# Visualizing the dispersion of average prices by country\n",
    "\n",
    "plt.figure(figsize=(18,8))\n",
    "\n",
    "sns.boxplot(y='country',x='price',data=clean_data)\n",
    "plt.title(\"Dispersion of Average Price by Country\",size=15)\n",
    "plt.xlabel(\"Price\")\n",
    "plt.ylabel('') \n",
    "plt.show()"
   ]
  },
  {
   "cell_type": "markdown",
   "id": "d201c449-f57a-4ca3-b66d-e554d82850c6",
   "metadata": {},
   "source": [
    "Findings: \n",
    "\n",
    "- no orders up to 200 were made from other countries than the UK --> UK remarks the highest order values, even tough most orders range from 0 to 67\n",
    "  \n",
    "- but the average prices per order vary from 5.39 (max) to 1.59 (min), where UK is below the mean (mean 3.49; UK 2.9)\n",
    "- Countries with a high number of orders have lower average prices per order --> here orders with a lower total order value are placed more often, whereas countries that are further away place fewer orders with a higher total order value\n",
    "  --> Delivery times and costs can explain this\n",
    "- still, the UK represents the statistical mid-part, which is not surprising as it is by far the country with the most orders"
   ]
  },
  {
   "cell_type": "markdown",
   "id": "6e4f5285-caca-457f-a349-4425d07aa419",
   "metadata": {},
   "source": [
    "2.2.2 Temporal Segmentation"
   ]
  },
  {
   "cell_type": "markdown",
   "id": "c6601f22-024a-43cc-b346-244c1cda41b7",
   "metadata": {},
   "source": [
    "2.2.2.1 Number of Orders per Month \n",
    "\n",
    "- since we only have 1 year of data available, an annual analysis makes no sense\n",
    "- therefore the coarsest unit of analysis is \"month\" (data for December is considered as one value, as the complete data set extends from 2010-12-01 to 2011-12-09 and therefore covers an almost complete year"
   ]
  },
  {
   "cell_type": "code",
   "execution_count": 282,
   "id": "5f5809ab-267c-4c58-aac0-0c62c43e933a",
   "metadata": {},
   "outputs": [],
   "source": [
    "# Change the type of invoice_date\n",
    "date_clean = clean_data.assign(invoice_date=lambda x: pd.to_datetime(x['invoice_date']))"
   ]
  },
  {
   "cell_type": "code",
   "execution_count": 283,
   "id": "2c9d911e-2b25-469c-a953-c280c25c503d",
   "metadata": {},
   "outputs": [
    {
     "name": "stdout",
     "output_type": "stream",
     "text": [
      "<class 'pandas.core.series.Series'>\n",
      "RangeIndex: 1174002 entries, 0 to 1174001\n",
      "Series name: invoice_date\n",
      "Non-Null Count    Dtype \n",
      "--------------    ----- \n",
      "1174002 non-null  object\n",
      "dtypes: object(1)\n",
      "memory usage: 9.0+ MB\n"
     ]
    }
   ],
   "source": [
    "clean_data['invoice_date'].info()"
   ]
  },
  {
   "cell_type": "code",
   "execution_count": 284,
   "id": "794c7c8c-6e4d-40ab-a717-6a22c8e58888",
   "metadata": {},
   "outputs": [],
   "source": [
    "# extract month from invoice date\n",
    "date_clean['month']=date_clean['invoice_date'].dt.month"
   ]
  },
  {
   "cell_type": "code",
   "execution_count": 286,
   "id": "26bb164c-9317-467b-a9ad-944002eab641",
   "metadata": {},
   "outputs": [
    {
     "data": {
      "text/html": [
       "<div>\n",
       "<style scoped>\n",
       "    .dataframe tbody tr th:only-of-type {\n",
       "        vertical-align: middle;\n",
       "    }\n",
       "\n",
       "    .dataframe tbody tr th {\n",
       "        vertical-align: top;\n",
       "    }\n",
       "\n",
       "    .dataframe thead th {\n",
       "        text-align: right;\n",
       "    }\n",
       "</style>\n",
       "<table border=\"1\" class=\"dataframe\">\n",
       "  <thead>\n",
       "    <tr style=\"text-align: right;\">\n",
       "      <th></th>\n",
       "      <th>invoice</th>\n",
       "      <th>stock_code</th>\n",
       "      <th>description</th>\n",
       "      <th>invoice_date</th>\n",
       "      <th>price</th>\n",
       "      <th>quantity</th>\n",
       "      <th>total_order_value</th>\n",
       "      <th>customer_id</th>\n",
       "      <th>country</th>\n",
       "      <th>month</th>\n",
       "    </tr>\n",
       "  </thead>\n",
       "  <tbody>\n",
       "    <tr>\n",
       "      <th>0</th>\n",
       "      <td>536370</td>\n",
       "      <td>21791</td>\n",
       "      <td>VINTAGE HEADS AND TAILS CARD GAME</td>\n",
       "      <td>2010-12-01 08:45:00</td>\n",
       "      <td>1.25</td>\n",
       "      <td>24</td>\n",
       "      <td>30.00</td>\n",
       "      <td>u12583</td>\n",
       "      <td>France</td>\n",
       "      <td>12</td>\n",
       "    </tr>\n",
       "    <tr>\n",
       "      <th>1</th>\n",
       "      <td>536373</td>\n",
       "      <td>82494L</td>\n",
       "      <td>WOODEN FRAME ANTIQUE WHITE</td>\n",
       "      <td>2010-12-01 09:02:00</td>\n",
       "      <td>2.55</td>\n",
       "      <td>6</td>\n",
       "      <td>15.30</td>\n",
       "      <td>u1785</td>\n",
       "      <td>United Kingdom</td>\n",
       "      <td>12</td>\n",
       "    </tr>\n",
       "    <tr>\n",
       "      <th>2</th>\n",
       "      <td>536378</td>\n",
       "      <td>21929</td>\n",
       "      <td>JUMBO BAG PINK VINTAGE PAISLEY</td>\n",
       "      <td>2010-12-01 09:37:00</td>\n",
       "      <td>1.95</td>\n",
       "      <td>10</td>\n",
       "      <td>19.50</td>\n",
       "      <td>u14688</td>\n",
       "      <td>United Kingdom</td>\n",
       "      <td>12</td>\n",
       "    </tr>\n",
       "    <tr>\n",
       "      <th>3</th>\n",
       "      <td>536381</td>\n",
       "      <td>37444A</td>\n",
       "      <td>YELLOW BREAKFAST CUP AND SAUCER</td>\n",
       "      <td>2010-12-01 09:41:00</td>\n",
       "      <td>2.95</td>\n",
       "      <td>1</td>\n",
       "      <td>2.95</td>\n",
       "      <td>u15311</td>\n",
       "      <td>United Kingdom</td>\n",
       "      <td>12</td>\n",
       "    </tr>\n",
       "    <tr>\n",
       "      <th>4</th>\n",
       "      <td>536381</td>\n",
       "      <td>15056BL</td>\n",
       "      <td>EDWARDIAN PARASOL BLACK</td>\n",
       "      <td>2010-12-01 09:41:00</td>\n",
       "      <td>5.95</td>\n",
       "      <td>2</td>\n",
       "      <td>11.90</td>\n",
       "      <td>u15311</td>\n",
       "      <td>United Kingdom</td>\n",
       "      <td>12</td>\n",
       "    </tr>\n",
       "  </tbody>\n",
       "</table>\n",
       "</div>"
      ],
      "text/plain": [
       "  invoice stock_code                         description        invoice_date  \\\n",
       "0  536370      21791  VINTAGE HEADS AND TAILS CARD GAME  2010-12-01 08:45:00   \n",
       "1  536373     82494L         WOODEN FRAME ANTIQUE WHITE  2010-12-01 09:02:00   \n",
       "2  536378      21929      JUMBO BAG PINK VINTAGE PAISLEY 2010-12-01 09:37:00   \n",
       "3  536381     37444A     YELLOW BREAKFAST CUP AND SAUCER 2010-12-01 09:41:00   \n",
       "4  536381    15056BL             EDWARDIAN PARASOL BLACK 2010-12-01 09:41:00   \n",
       "\n",
       "   price  quantity  total_order_value customer_id         country  month  \n",
       "0   1.25        24              30.00      u12583          France     12  \n",
       "1   2.55         6              15.30       u1785  United Kingdom     12  \n",
       "2   1.95        10              19.50      u14688  United Kingdom     12  \n",
       "3   2.95         1               2.95      u15311  United Kingdom     12  \n",
       "4   5.95         2              11.90      u15311  United Kingdom     12  "
      ]
     },
     "execution_count": 286,
     "metadata": {},
     "output_type": "execute_result"
    }
   ],
   "source": [
    "date_clean.head()"
   ]
  },
  {
   "cell_type": "code",
   "execution_count": 285,
   "id": "53431e16-9632-4197-9ad8-07fcbd87e2d3",
   "metadata": {},
   "outputs": [],
   "source": [
    "orders_per_month=date_clean.groupby('month')[['quantity']].sum()"
   ]
  },
  {
   "cell_type": "code",
   "execution_count": 310,
   "id": "8488398b-ad8e-48e8-8013-c9355a2cd5c8",
   "metadata": {},
   "outputs": [],
   "source": [
    "# Calculate the total quantity per month\n",
    "orders_per_month=date_clean.groupby('month')[['quantity']].sum()"
   ]
  },
  {
   "cell_type": "code",
   "execution_count": 290,
   "id": "7d217a67-46f2-450d-9103-a822a8629dcb",
   "metadata": {},
   "outputs": [
    {
     "data": {
      "text/html": [
       "<div>\n",
       "<style scoped>\n",
       "    .dataframe tbody tr th:only-of-type {\n",
       "        vertical-align: middle;\n",
       "    }\n",
       "\n",
       "    .dataframe tbody tr th {\n",
       "        vertical-align: top;\n",
       "    }\n",
       "\n",
       "    .dataframe thead th {\n",
       "        text-align: right;\n",
       "    }\n",
       "</style>\n",
       "<table border=\"1\" class=\"dataframe\">\n",
       "  <thead>\n",
       "    <tr style=\"text-align: right;\">\n",
       "      <th></th>\n",
       "      <th>quantity</th>\n",
       "    </tr>\n",
       "    <tr>\n",
       "      <th>month</th>\n",
       "      <th></th>\n",
       "    </tr>\n",
       "  </thead>\n",
       "  <tbody>\n",
       "    <tr>\n",
       "      <th>1</th>\n",
       "      <td>1044693</td>\n",
       "    </tr>\n",
       "    <tr>\n",
       "      <th>2</th>\n",
       "      <td>794415</td>\n",
       "    </tr>\n",
       "    <tr>\n",
       "      <th>3</th>\n",
       "      <td>1041894</td>\n",
       "    </tr>\n",
       "    <tr>\n",
       "      <th>4</th>\n",
       "      <td>873384</td>\n",
       "    </tr>\n",
       "    <tr>\n",
       "      <th>5</th>\n",
       "      <td>1118037</td>\n",
       "    </tr>\n",
       "    <tr>\n",
       "      <th>6</th>\n",
       "      <td>1088208</td>\n",
       "    </tr>\n",
       "    <tr>\n",
       "      <th>7</th>\n",
       "      <td>1101228</td>\n",
       "    </tr>\n",
       "    <tr>\n",
       "      <th>8</th>\n",
       "      <td>1193769</td>\n",
       "    </tr>\n",
       "    <tr>\n",
       "      <th>9</th>\n",
       "      <td>1628550</td>\n",
       "    </tr>\n",
       "    <tr>\n",
       "      <th>10</th>\n",
       "      <td>1770600</td>\n",
       "    </tr>\n",
       "    <tr>\n",
       "      <th>11</th>\n",
       "      <td>2022315</td>\n",
       "    </tr>\n",
       "    <tr>\n",
       "      <th>12</th>\n",
       "      <td>1789443</td>\n",
       "    </tr>\n",
       "  </tbody>\n",
       "</table>\n",
       "</div>"
      ],
      "text/plain": [
       "       quantity\n",
       "month          \n",
       "1       1044693\n",
       "2        794415\n",
       "3       1041894\n",
       "4        873384\n",
       "5       1118037\n",
       "6       1088208\n",
       "7       1101228\n",
       "8       1193769\n",
       "9       1628550\n",
       "10      1770600\n",
       "11      2022315\n",
       "12      1789443"
      ]
     },
     "execution_count": 290,
     "metadata": {},
     "output_type": "execute_result"
    }
   ],
   "source": [
    "orders_per_month"
   ]
  },
  {
   "cell_type": "code",
   "execution_count": 383,
   "id": "6432a8b6-143f-42ba-9b48-8d139488316e",
   "metadata": {},
   "outputs": [
    {
     "data": {
      "image/png": "[encoded data removed]",
      "text/plain": [
       "<Figure size 640x480 with 1 Axes>"
      ]
     },
     "metadata": {},
     "output_type": "display_data"
    }
   ],
   "source": [
    "#visualization\n",
    "\n",
    "sns.lineplot(x='month',y='quantity',data=orders_per_month,marker='o',color='blue')\n",
    "\n",
    "plt.title('Orders per Month',fontsize=15)\n",
    "plt.xlabel('month')\n",
    "plt.ylabel('quantity')\n",
    "plt.axvline(11, color = \"k\", linestyle = '--', alpha = 0.3)\n",
    "\n",
    "# name the highest point \n",
    "plt.text(10.3, 2.05e6, \"Maximum\", size=10, color='red')\n",
    "\n",
    "plt.show()"
   ]
  },
  {
   "cell_type": "code",
   "execution_count": 357,
   "id": "9a945c94-c60f-4522-99b9-97212905fd21",
   "metadata": {},
   "outputs": [
    {
     "data": {
      "image/png": "[encoded data removed]",
      "text/plain": [
       "<Figure size 640x480 with 1 Axes>"
      ]
     },
     "metadata": {},
     "output_type": "display_data"
    }
   ],
   "source": [
    "# visualization\n",
    "\n",
    "sns.barplot(x='month',y='quantity',data=orders_per_month, color = 'purple')\n",
    "plt.title('Orders per Month',size=15)\n",
    "plt.xlabel(\"Month\")\n",
    "plt.ylabel(\"Quantity\")\n",
    "plt.grid (color='gray',linestyle='-',linewidth=0.05)\n",
    "\n",
    "plt.tight_layout()\n",
    "plt.show()"
   ]
  },
  {
   "cell_type": "code",
   "execution_count": null,
   "id": "faf347fa-4405-4ce0-bc11-0fbe8eb72eff",
   "metadata": {},
   "outputs": [],
   "source": [
    "2.2.2.2 Number of Orders per Weekday"
   ]
  },
  {
   "cell_type": "code",
   "execution_count": 311,
   "id": "1f8c1d08-ac9d-4f41-ae26-c8b1defb4506",
   "metadata": {},
   "outputs": [],
   "source": [
    "# Create a dictionary that maps numbers to the abbreviations of weekdays\n",
    "\n",
    "weekday_map = {\n",
    "    0: 'Mon',\n",
    "    1: 'Tue',\n",
    "    2: 'Wed',\n",
    "    3: 'Thu',\n",
    "    4: 'Fri',\n",
    "    5: 'Sat',\n",
    "    6: 'Sun'\n",
    "}"
   ]
  },
  {
   "cell_type": "code",
   "execution_count": 376,
   "id": "a07ac940-d1d9-487b-bdb4-44b0e4d5bc5d",
   "metadata": {},
   "outputs": [],
   "source": [
    "#extract weekday from date \n",
    "date_clean['weekday']=date_clean['invoice_date'].dt.weekday"
   ]
  },
  {
   "cell_type": "code",
   "execution_count": 373,
   "id": "dca4ef42-7469-45d8-a9f4-a22b60518985",
   "metadata": {},
   "outputs": [],
   "source": [
    "# Orders per Weekday\n",
    "orders_weekday = date_clean.groupby('weekday')['quantity'].sum()\n"
   ]
  },
  {
   "cell_type": "code",
   "execution_count": 374,
   "id": "2e2c3720-a25a-4e30-8e1b-3fa20d3e7160",
   "metadata": {},
   "outputs": [
    {
     "data": {
      "text/plain": [
       "Text(0, 0.5, 'Quantity')"
      ]
     },
     "execution_count": 374,
     "metadata": {},
     "output_type": "execute_result"
    },
    {
     "data": {
      "image/png": "[encoded data removed]",
      "text/plain": [
       "<Figure size 800x600 with 1 Axes>"
      ]
     },
     "metadata": {},
     "output_type": "display_data"
    }
   ],
   "source": [
    "# visualization\n",
    "\n",
    "weekdays_list = ['Mon', 'Tue', 'Wed', 'Thu', 'Fri', 'Sat', 'Sun']\n",
    "\n",
    "plt.figure(figsize=(8, 6))\n",
    "sns.barplot(x=weekdays_list, y=quantity, color = 'green')\n",
    "plt.title('Orders per Weekday',size=15)\n",
    "plt.xlabel('Weekday')\n",
    "plt.ylabel('Quantity')"
   ]
  },
  {
   "cell_type": "markdown",
   "id": "8cdd9548-db1b-4c10-b55b-2a19ad8a03f0",
   "metadata": {},
   "source": [
    "2.2.2.3 Number of Orders per Day"
   ]
  },
  {
   "cell_type": "code",
   "execution_count": 369,
   "id": "b1a9e8cf-b359-4811-b859-b1105dc6df95",
   "metadata": {},
   "outputs": [],
   "source": [
    "# Distribution of Transactions per Day\n",
    "# Extract day from invoice date\n",
    "date_clean['day']=date_clean['invoice_date'].dt.day"
   ]
  },
  {
   "cell_type": "code",
   "execution_count": 371,
   "id": "75b72795-8a25-4165-8d5f-6b1889a1c50d",
   "metadata": {},
   "outputs": [
    {
     "data": {
      "text/html": [
       "<div>\n",
       "<style scoped>\n",
       "    .dataframe tbody tr th:only-of-type {\n",
       "        vertical-align: middle;\n",
       "    }\n",
       "\n",
       "    .dataframe tbody tr th {\n",
       "        vertical-align: top;\n",
       "    }\n",
       "\n",
       "    .dataframe thead th {\n",
       "        text-align: right;\n",
       "    }\n",
       "</style>\n",
       "<table border=\"1\" class=\"dataframe\">\n",
       "  <thead>\n",
       "    <tr style=\"text-align: right;\">\n",
       "      <th></th>\n",
       "      <th>invoice</th>\n",
       "      <th>stock_code</th>\n",
       "      <th>description</th>\n",
       "      <th>invoice_date</th>\n",
       "      <th>price</th>\n",
       "      <th>quantity</th>\n",
       "      <th>total_order_value</th>\n",
       "      <th>customer_id</th>\n",
       "      <th>country</th>\n",
       "      <th>month</th>\n",
       "      <th>weekday</th>\n",
       "      <th>day</th>\n",
       "    </tr>\n",
       "  </thead>\n",
       "  <tbody>\n",
       "    <tr>\n",
       "      <th>0</th>\n",
       "      <td>536370</td>\n",
       "      <td>21791</td>\n",
       "      <td>VINTAGE HEADS AND TAILS CARD GAME</td>\n",
       "      <td>2010-12-01 08:45:00</td>\n",
       "      <td>1.25</td>\n",
       "      <td>24</td>\n",
       "      <td>30.00</td>\n",
       "      <td>u12583</td>\n",
       "      <td>France</td>\n",
       "      <td>12</td>\n",
       "      <td>Wed</td>\n",
       "      <td>1</td>\n",
       "    </tr>\n",
       "    <tr>\n",
       "      <th>1</th>\n",
       "      <td>536373</td>\n",
       "      <td>82494L</td>\n",
       "      <td>WOODEN FRAME ANTIQUE WHITE</td>\n",
       "      <td>2010-12-01 09:02:00</td>\n",
       "      <td>2.55</td>\n",
       "      <td>6</td>\n",
       "      <td>15.30</td>\n",
       "      <td>u1785</td>\n",
       "      <td>United Kingdom</td>\n",
       "      <td>12</td>\n",
       "      <td>Wed</td>\n",
       "      <td>1</td>\n",
       "    </tr>\n",
       "    <tr>\n",
       "      <th>2</th>\n",
       "      <td>536378</td>\n",
       "      <td>21929</td>\n",
       "      <td>JUMBO BAG PINK VINTAGE PAISLEY</td>\n",
       "      <td>2010-12-01 09:37:00</td>\n",
       "      <td>1.95</td>\n",
       "      <td>10</td>\n",
       "      <td>19.50</td>\n",
       "      <td>u14688</td>\n",
       "      <td>United Kingdom</td>\n",
       "      <td>12</td>\n",
       "      <td>Wed</td>\n",
       "      <td>1</td>\n",
       "    </tr>\n",
       "    <tr>\n",
       "      <th>3</th>\n",
       "      <td>536381</td>\n",
       "      <td>37444A</td>\n",
       "      <td>YELLOW BREAKFAST CUP AND SAUCER</td>\n",
       "      <td>2010-12-01 09:41:00</td>\n",
       "      <td>2.95</td>\n",
       "      <td>1</td>\n",
       "      <td>2.95</td>\n",
       "      <td>u15311</td>\n",
       "      <td>United Kingdom</td>\n",
       "      <td>12</td>\n",
       "      <td>Wed</td>\n",
       "      <td>1</td>\n",
       "    </tr>\n",
       "    <tr>\n",
       "      <th>4</th>\n",
       "      <td>536381</td>\n",
       "      <td>15056BL</td>\n",
       "      <td>EDWARDIAN PARASOL BLACK</td>\n",
       "      <td>2010-12-01 09:41:00</td>\n",
       "      <td>5.95</td>\n",
       "      <td>2</td>\n",
       "      <td>11.90</td>\n",
       "      <td>u15311</td>\n",
       "      <td>United Kingdom</td>\n",
       "      <td>12</td>\n",
       "      <td>Wed</td>\n",
       "      <td>1</td>\n",
       "    </tr>\n",
       "  </tbody>\n",
       "</table>\n",
       "</div>"
      ],
      "text/plain": [
       "  invoice stock_code                         description        invoice_date  \\\n",
       "0  536370      21791  VINTAGE HEADS AND TAILS CARD GAME  2010-12-01 08:45:00   \n",
       "1  536373     82494L         WOODEN FRAME ANTIQUE WHITE  2010-12-01 09:02:00   \n",
       "2  536378      21929      JUMBO BAG PINK VINTAGE PAISLEY 2010-12-01 09:37:00   \n",
       "3  536381     37444A     YELLOW BREAKFAST CUP AND SAUCER 2010-12-01 09:41:00   \n",
       "4  536381    15056BL             EDWARDIAN PARASOL BLACK 2010-12-01 09:41:00   \n",
       "\n",
       "   price  quantity  total_order_value customer_id         country  month  \\\n",
       "0   1.25        24              30.00      u12583          France     12   \n",
       "1   2.55         6              15.30       u1785  United Kingdom     12   \n",
       "2   1.95        10              19.50      u14688  United Kingdom     12   \n",
       "3   2.95         1               2.95      u15311  United Kingdom     12   \n",
       "4   5.95         2              11.90      u15311  United Kingdom     12   \n",
       "\n",
       "  weekday  day  \n",
       "0     Wed    1  \n",
       "1     Wed    1  \n",
       "2     Wed    1  \n",
       "3     Wed    1  \n",
       "4     Wed    1  "
      ]
     },
     "execution_count": 371,
     "metadata": {},
     "output_type": "execute_result"
    }
   ],
   "source": [
    "date_clean.head()"
   ]
  },
  {
   "cell_type": "code",
   "execution_count": 378,
   "id": "1b516275-b1de-4f4e-8fa5-cd85fe25c5a6",
   "metadata": {},
   "outputs": [],
   "source": [
    "# Quantity per weekday\n",
    "orders_day = date_clean.groupby('day')[['quantity']].sum().reset_index()"
   ]
  },
  {
   "cell_type": "code",
   "execution_count": 379,
   "id": "b07f0d9e-36ce-4fc2-a388-b63390f0ad81",
   "metadata": {},
   "outputs": [
    {
     "data": {
      "text/html": [
       "<div>\n",
       "<style scoped>\n",
       "    .dataframe tbody tr th:only-of-type {\n",
       "        vertical-align: middle;\n",
       "    }\n",
       "\n",
       "    .dataframe tbody tr th {\n",
       "        vertical-align: top;\n",
       "    }\n",
       "\n",
       "    .dataframe thead th {\n",
       "        text-align: right;\n",
       "    }\n",
       "</style>\n",
       "<table border=\"1\" class=\"dataframe\">\n",
       "  <thead>\n",
       "    <tr style=\"text-align: right;\">\n",
       "      <th></th>\n",
       "      <th>day</th>\n",
       "      <th>quantity</th>\n",
       "    </tr>\n",
       "  </thead>\n",
       "  <tbody>\n",
       "    <tr>\n",
       "      <th>0</th>\n",
       "      <td>1</td>\n",
       "      <td>509871</td>\n",
       "    </tr>\n",
       "    <tr>\n",
       "      <th>1</th>\n",
       "      <td>2</td>\n",
       "      <td>456825</td>\n",
       "    </tr>\n",
       "    <tr>\n",
       "      <th>2</th>\n",
       "      <td>3</td>\n",
       "      <td>440550</td>\n",
       "    </tr>\n",
       "    <tr>\n",
       "      <th>3</th>\n",
       "      <td>4</td>\n",
       "      <td>575949</td>\n",
       "    </tr>\n",
       "    <tr>\n",
       "      <th>4</th>\n",
       "      <td>5</td>\n",
       "      <td>643854</td>\n",
       "    </tr>\n",
       "    <tr>\n",
       "      <th>5</th>\n",
       "      <td>6</td>\n",
       "      <td>592794</td>\n",
       "    </tr>\n",
       "    <tr>\n",
       "      <th>6</th>\n",
       "      <td>7</td>\n",
       "      <td>615951</td>\n",
       "    </tr>\n",
       "    <tr>\n",
       "      <th>7</th>\n",
       "      <td>8</td>\n",
       "      <td>519306</td>\n",
       "    </tr>\n",
       "    <tr>\n",
       "      <th>8</th>\n",
       "      <td>9</td>\n",
       "      <td>740379</td>\n",
       "    </tr>\n",
       "    <tr>\n",
       "      <th>9</th>\n",
       "      <td>10</td>\n",
       "      <td>490593</td>\n",
       "    </tr>\n",
       "    <tr>\n",
       "      <th>10</th>\n",
       "      <td>11</td>\n",
       "      <td>595368</td>\n",
       "    </tr>\n",
       "    <tr>\n",
       "      <th>11</th>\n",
       "      <td>12</td>\n",
       "      <td>403467</td>\n",
       "    </tr>\n",
       "    <tr>\n",
       "      <th>12</th>\n",
       "      <td>13</td>\n",
       "      <td>477828</td>\n",
       "    </tr>\n",
       "    <tr>\n",
       "      <th>13</th>\n",
       "      <td>14</td>\n",
       "      <td>546345</td>\n",
       "    </tr>\n",
       "    <tr>\n",
       "      <th>14</th>\n",
       "      <td>15</td>\n",
       "      <td>493494</td>\n",
       "    </tr>\n",
       "    <tr>\n",
       "      <th>15</th>\n",
       "      <td>16</td>\n",
       "      <td>477813</td>\n",
       "    </tr>\n",
       "    <tr>\n",
       "      <th>16</th>\n",
       "      <td>17</td>\n",
       "      <td>576417</td>\n",
       "    </tr>\n",
       "    <tr>\n",
       "      <th>17</th>\n",
       "      <td>18</td>\n",
       "      <td>749457</td>\n",
       "    </tr>\n",
       "    <tr>\n",
       "      <th>18</th>\n",
       "      <td>19</td>\n",
       "      <td>453015</td>\n",
       "    </tr>\n",
       "    <tr>\n",
       "      <th>19</th>\n",
       "      <td>20</td>\n",
       "      <td>615381</td>\n",
       "    </tr>\n",
       "    <tr>\n",
       "      <th>20</th>\n",
       "      <td>21</td>\n",
       "      <td>538770</td>\n",
       "    </tr>\n",
       "    <tr>\n",
       "      <th>21</th>\n",
       "      <td>22</td>\n",
       "      <td>455187</td>\n",
       "    </tr>\n",
       "    <tr>\n",
       "      <th>22</th>\n",
       "      <td>23</td>\n",
       "      <td>433605</td>\n",
       "    </tr>\n",
       "    <tr>\n",
       "      <th>23</th>\n",
       "      <td>24</td>\n",
       "      <td>461166</td>\n",
       "    </tr>\n",
       "    <tr>\n",
       "      <th>24</th>\n",
       "      <td>25</td>\n",
       "      <td>446580</td>\n",
       "    </tr>\n",
       "    <tr>\n",
       "      <th>25</th>\n",
       "      <td>26</td>\n",
       "      <td>330093</td>\n",
       "    </tr>\n",
       "    <tr>\n",
       "      <th>26</th>\n",
       "      <td>27</td>\n",
       "      <td>411504</td>\n",
       "    </tr>\n",
       "    <tr>\n",
       "      <th>27</th>\n",
       "      <td>28</td>\n",
       "      <td>522129</td>\n",
       "    </tr>\n",
       "    <tr>\n",
       "      <th>28</th>\n",
       "      <td>29</td>\n",
       "      <td>299040</td>\n",
       "    </tr>\n",
       "    <tr>\n",
       "      <th>29</th>\n",
       "      <td>30</td>\n",
       "      <td>342135</td>\n",
       "    </tr>\n",
       "    <tr>\n",
       "      <th>30</th>\n",
       "      <td>31</td>\n",
       "      <td>251670</td>\n",
       "    </tr>\n",
       "  </tbody>\n",
       "</table>\n",
       "</div>"
      ],
      "text/plain": [
       "    day  quantity\n",
       "0     1    509871\n",
       "1     2    456825\n",
       "2     3    440550\n",
       "3     4    575949\n",
       "4     5    643854\n",
       "5     6    592794\n",
       "6     7    615951\n",
       "7     8    519306\n",
       "8     9    740379\n",
       "9    10    490593\n",
       "10   11    595368\n",
       "11   12    403467\n",
       "12   13    477828\n",
       "13   14    546345\n",
       "14   15    493494\n",
       "15   16    477813\n",
       "16   17    576417\n",
       "17   18    749457\n",
       "18   19    453015\n",
       "19   20    615381\n",
       "20   21    538770\n",
       "21   22    455187\n",
       "22   23    433605\n",
       "23   24    461166\n",
       "24   25    446580\n",
       "25   26    330093\n",
       "26   27    411504\n",
       "27   28    522129\n",
       "28   29    299040\n",
       "29   30    342135\n",
       "30   31    251670"
      ]
     },
     "execution_count": 379,
     "metadata": {},
     "output_type": "execute_result"
    }
   ],
   "source": [
    "orders_day"
   ]
  },
  {
   "cell_type": "code",
   "execution_count": 391,
   "id": "cab8ecaf-8b2f-4287-85f9-e79df699bc8a",
   "metadata": {},
   "outputs": [
    {
     "data": {
      "image/png": "[encoded data removed]",
      "text/plain": [
       "<Figure size 1000x600 with 1 Axes>"
      ]
     },
     "metadata": {},
     "output_type": "display_data"
    }
   ],
   "source": [
    "# visualization \n",
    "\n",
    "plt.figure(figsize=(10,6))\n",
    "sns.lineplot(x='day',y='quantity',data=orders_day, color = 'green')\n",
    "\n",
    "# Find the highest point\n",
    "max_quantity = orders_day['quantity'].max()\n",
    "max_day = orders_day[orders_day['quantity'] == max_quantity]['day'].values[0]\n",
    "\n",
    "# Color the highest point\n",
    "plt.scatter(max_day, max_quantity, color='red', s=100)  \n",
    "\n",
    "# Add titel and labels\n",
    "plt.title('Orders per Day',size=15)\n",
    "plt.xlabel('Day')\n",
    "plt.ylabel('Quantity')\n",
    "plt.grid (color='gray',linestyle='-',linewidth=0.05)"
   ]
  },
  {
   "cell_type": "markdown",
   "id": "cf482315-1c46-48d2-b000-75a7c5dea857",
   "metadata": {},
   "source": [
    "Findings: \n",
    "\n",
    "months:\n",
    "- most orders were placed in November (11), followed by December, October and September\n",
    "- the first 8 months of the year were significantly less frequented in orders \n",
    "--> this can be explained by the fact that the Christmas and therefore shopping season starts at the end of the year for most of the customers (Europe)\n",
    "\n",
    "weekdays:\n",
    "- most transactions were made on thursdays --> from Monday to Thursday, sales increase steadily; from Thursday they fall sharply\n",
    "- no transactions are recorded on Saturdays (Why?)\n",
    "- in general, the first half of the week is significantly stronger in terms of sales\n",
    "\n",
    "days:\n",
    "- most orders are placed shortly after the middle of the month - around the 18th -; a second peak occurs around the 9th of a month\n",
    "    --> these are by far the busiest days \n",
    "    --> one explanation may be that there are usually salary payments at the beginning or in the middle of the month, which cause the upward spikes as fresh money is available in households "
   ]
  },
  {
   "cell_type": "markdown",
   "id": "3855a269-cf46-4ddf-b3ec-bfe447614ff9",
   "metadata": {},
   "source": [
    "2.2.3 Customer Segmentation (RFM)"
   ]
  },
  {
   "cell_type": "code",
   "execution_count": 417,
   "id": "f2e09b68-0e42-4396-a41a-955db1633350",
   "metadata": {},
   "outputs": [
    {
     "name": "stdout",
     "output_type": "stream",
     "text": [
      "object\n"
     ]
    }
   ],
   "source": [
    "print(clean_data['invoice_date'].dtype)\n"
   ]
  },
  {
   "cell_type": "code",
   "execution_count": 418,
   "id": "b6ad6b9e-338e-4590-915b-14c5a2e90827",
   "metadata": {},
   "outputs": [],
   "source": [
    "clean_data['invoice_date'] = pd.to_datetime(clean_data['invoice_date'])\n"
   ]
  },
  {
   "cell_type": "code",
   "execution_count": 433,
   "id": "205a71b8-894e-4ce1-a59c-bf17c7095a2d",
   "metadata": {},
   "outputs": [
    {
     "name": "stdout",
     "output_type": "stream",
     "text": [
      "0\n"
     ]
    }
   ],
   "source": [
    "print(clean_data['invoice_date'].isna().sum())"
   ]
  },
  {
   "cell_type": "code",
   "execution_count": 442,
   "id": "e3629fb2-0235-4f90-9db5-b1bd47fa8062",
   "metadata": {},
   "outputs": [
    {
     "data": {
      "text/html": [
       "<div>\n",
       "<style scoped>\n",
       "    .dataframe tbody tr th:only-of-type {\n",
       "        vertical-align: middle;\n",
       "    }\n",
       "\n",
       "    .dataframe tbody tr th {\n",
       "        vertical-align: top;\n",
       "    }\n",
       "\n",
       "    .dataframe thead th {\n",
       "        text-align: right;\n",
       "    }\n",
       "</style>\n",
       "<table border=\"1\" class=\"dataframe\">\n",
       "  <thead>\n",
       "    <tr style=\"text-align: right;\">\n",
       "      <th></th>\n",
       "      <th>customer_id</th>\n",
       "      <th>Recency</th>\n",
       "      <th>Frequency</th>\n",
       "      <th>Monetary</th>\n",
       "    </tr>\n",
       "  </thead>\n",
       "  <tbody>\n",
       "    <tr>\n",
       "      <th>0</th>\n",
       "      <td>u12346</td>\n",
       "      <td>4955</td>\n",
       "      <td>1</td>\n",
       "      <td>231550.80</td>\n",
       "    </tr>\n",
       "    <tr>\n",
       "      <th>1</th>\n",
       "      <td>u12347</td>\n",
       "      <td>4632</td>\n",
       "      <td>7</td>\n",
       "      <td>12930.00</td>\n",
       "    </tr>\n",
       "    <tr>\n",
       "      <th>2</th>\n",
       "      <td>u12348</td>\n",
       "      <td>4705</td>\n",
       "      <td>4</td>\n",
       "      <td>4311.72</td>\n",
       "    </tr>\n",
       "    <tr>\n",
       "      <th>3</th>\n",
       "      <td>u12349</td>\n",
       "      <td>4648</td>\n",
       "      <td>1</td>\n",
       "      <td>4372.65</td>\n",
       "    </tr>\n",
       "    <tr>\n",
       "      <th>4</th>\n",
       "      <td>u1235</td>\n",
       "      <td>4940</td>\n",
       "      <td>1</td>\n",
       "      <td>883.20</td>\n",
       "    </tr>\n",
       "    <tr>\n",
       "      <th>5</th>\n",
       "      <td>u12352</td>\n",
       "      <td>4666</td>\n",
       "      <td>7</td>\n",
       "      <td>4157.22</td>\n",
       "    </tr>\n",
       "    <tr>\n",
       "      <th>6</th>\n",
       "      <td>u12353</td>\n",
       "      <td>4834</td>\n",
       "      <td>1</td>\n",
       "      <td>267.00</td>\n",
       "    </tr>\n",
       "    <tr>\n",
       "      <th>7</th>\n",
       "      <td>u12354</td>\n",
       "      <td>4862</td>\n",
       "      <td>1</td>\n",
       "      <td>3238.20</td>\n",
       "    </tr>\n",
       "    <tr>\n",
       "      <th>8</th>\n",
       "      <td>u12355</td>\n",
       "      <td>4844</td>\n",
       "      <td>1</td>\n",
       "      <td>1378.20</td>\n",
       "    </tr>\n",
       "    <tr>\n",
       "      <th>9</th>\n",
       "      <td>u12356</td>\n",
       "      <td>4652</td>\n",
       "      <td>3</td>\n",
       "      <td>7462.29</td>\n",
       "    </tr>\n",
       "  </tbody>\n",
       "</table>\n",
       "</div>"
      ],
      "text/plain": [
       "  customer_id  Recency  Frequency   Monetary\n",
       "0      u12346     4955          1  231550.80\n",
       "1      u12347     4632          7   12930.00\n",
       "2      u12348     4705          4    4311.72\n",
       "3      u12349     4648          1    4372.65\n",
       "4       u1235     4940          1     883.20\n",
       "5      u12352     4666          7    4157.22\n",
       "6      u12353     4834          1     267.00\n",
       "7      u12354     4862          1    3238.20\n",
       "8      u12355     4844          1    1378.20\n",
       "9      u12356     4652          3    7462.29"
      ]
     },
     "execution_count": 442,
     "metadata": {},
     "output_type": "execute_result"
    }
   ],
   "source": [
    "# Calculate Recency, Frequency and Monetary value for each customer \n",
    "\n",
    "rfm_data = clean_data.groupby('customer_id').agg({\n",
    "    'invoice_date': lambda x: (pd.to_datetime('2024-08-13') - x.max()).days,  # Recency: Days since the last order\n",
    "    'invoice': 'nunique',                                                     # Frequency: Number of orders\n",
    "    'total_order_value': 'sum'                                                # Monetary: Sum of the order values\n",
    "}).reset_index()\n",
    "\n",
    "# rename columns\n",
    "rfm_data.columns = ['customer_id', 'Recency', 'Frequency', 'Monetary']\n",
    "\n",
    "rfm_data.head(10)"
   ]
  },
  {
   "cell_type": "code",
   "execution_count": 443,
   "id": "bc72b515-6544-4a8b-8add-cd0a0049de01",
   "metadata": {},
   "outputs": [],
   "source": [
    "# Scoring RFM metrics (5x5x5)\n",
    "\n",
    "# Recency-Score (the smaller, the better)\n",
    "rfm_data['R_Score'] = pd.qcut(rfm_data['Recency'], 5, labels=[5, 4, 3, 2, 1])\n",
    "\n",
    "# Frequency-Score (the bigger, the better)\n",
    "rfm_data['F_Score'] = pd.qcut(rfm_data['Frequency'].rank(method='first'), 5, labels=[1, 2, 3, 4, 5])\n",
    "\n",
    "# Monetary-Score (the bigger, the better)\n",
    "rfm_data['M_Score'] = pd.qcut(rfm_data['Monetary'], 5, labels=[1, 2, 3, 4, 5])\n"
   ]
  },
  {
   "cell_type": "code",
   "execution_count": 444,
   "id": "2bfab575-c1e7-4859-8ba8-e8dab72c042e",
   "metadata": {},
   "outputs": [],
   "source": [
    "# Create RFM segment\n",
    "rfm_data['RFM_Segment'] = rfm_data['R_Score'].astype(str) + rfm_data['F_Score'].astype(str) + rfm_data['M_Score'].astype(str)\n",
    "\n",
    "# RFM-Score berechnen (Summe der Scores)\n",
    "rfm_data['RFM_Score'] = rfm_data[['R_Score', 'F_Score', 'M_Score']].sum(axis=1)\n"
   ]
  },
  {
   "cell_type": "code",
   "execution_count": 445,
   "id": "c217034b-afcf-4c54-b218-915d18390ce5",
   "metadata": {},
   "outputs": [
    {
     "name": "stdout",
     "output_type": "stream",
     "text": [
      "     customer_id  Recency  Frequency   Monetary R_Score F_Score M_Score  \\\n",
      "0         u12346     4955          1  231550.80       1       1       5   \n",
      "1         u12347     4632          7   12930.00       5       5       5   \n",
      "2         u12348     4705          4    4311.72       2       4       4   \n",
      "3         u12349     4648          1    4372.65       4       1       4   \n",
      "4          u1235     4940          1     883.20       1       1       2   \n",
      "...          ...      ...        ...        ...     ...     ...     ...   \n",
      "4330       u1828     4907          1     541.80       1       2       1   \n",
      "4331      u18281     4810          1     242.46       1       2       1   \n",
      "4332      u18282     4637          2     534.15       5       3       1   \n",
      "4333      u18283     4633         16    6118.74       5       5       5   \n",
      "4334      u18287     4672          3    5511.84       3       4       4   \n",
      "\n",
      "     RFM_Segment  RFM_Score  \n",
      "0            115          7  \n",
      "1            555         15  \n",
      "2            244         10  \n",
      "3            414          9  \n",
      "4            112          4  \n",
      "...          ...        ...  \n",
      "4330         121          4  \n",
      "4331         121          4  \n",
      "4332         531          9  \n",
      "4333         555         15  \n",
      "4334         344         11  \n",
      "\n",
      "[4335 rows x 9 columns]\n"
     ]
    }
   ],
   "source": [
    "print(rfm_data)"
   ]
  },
  {
   "cell_type": "code",
   "execution_count": 455,
   "id": "a779f229-ec5d-4f49-8ea1-3613c3c79dff",
   "metadata": {},
   "outputs": [
    {
     "data": {
      "image/png": "[encoded data removed]",
      "text/plain": [
       "<Figure size 1500x1000 with 3 Axes>"
      ]
     },
     "metadata": {},
     "output_type": "display_data"
    }
   ],
   "source": [
    "# Visualize the distribution of data\n",
    "plt.figure(figsize=(15, 10))\n",
    "\n",
    "# Plot the distribution of the 'Recency' variable\n",
    "plt.subplot(3, 3, 1)\n",
    "sns.histplot(rfm_data['Recency'], bins=30, kde=True)\n",
    "plt.title('Recency Distribution',size=15)\n",
    "\n",
    "# Plot the distribution of the 'Frequency' variable\n",
    "plt.subplot(3, 3, 2)\n",
    "sns.histplot(rfm_data['Frequency'], bins=30, kde=True)\n",
    "plt.title('Frequency Distribution',size=15)\n",
    "\n",
    "# Plot the distribution of the 'MonetaryValue' variable\n",
    "plt.subplot(3, 3, 3)\n",
    "sns.histplot(rfm_data['Monetary'], bins=30, kde=True)\n",
    "plt.title('Monetary Distribution',size=15)\n",
    "\n",
    "# Adjust layout to prevent overlap of subplots\n",
    "plt.tight_layout()\n",
    "\n",
    "# Display the plot\n",
    "plt.show()"
   ]
  },
  {
   "cell_type": "markdown",
   "id": "16f7e578-a698-48a0-8e39-eb43cf5c8e7d",
   "metadata": {},
   "source": [
    "Summary:\n",
    "\n",
    "- Recency: Days since the last order\n",
    "- Frequency: Number of orders\n",
    "- Monetary: Total spend\n",
    "\n",
    "- RFM segment: Combination of R, F and M scores \n",
    "    --> 555 = very good customer\n",
    "\n",
    "- RFM score: Sum of the scores to determine the total score of a customer\n",
    "    --> 15 as maximum (555); 3 as minimum (111)"
   ]
  },
  {
   "cell_type": "markdown",
   "id": "d999a90d-3462-4570-9492-bb51406e4de6",
   "metadata": {},
   "source": [
    "Findings: \n",
    "\n",
    "- most customers made a low number of purchases (1-5 times) --> but we have data from 1 year\n",
    "--> if the company is a young start-up this may will increase; there is already a high number of repeating purchasers\n",
    "\n",
    "  \n",
    "- there are only a few customers with a high total spent; most customers have a low total order value "
   ]
  },
  {
   "cell_type": "code",
   "execution_count": 472,
   "id": "f34f2815-8881-4acf-82fa-c20b72ababa1",
   "metadata": {},
   "outputs": [
    {
     "name": "stdout",
     "output_type": "stream",
     "text": [
      "     customer_id RFM_Segment    Customer_Segment\n",
      "0         u12346         115          Sleepyhead\n",
      "1         u12347         555            Champion\n",
      "2         u12348         244             At Risk\n",
      "3         u12349         414          Sleepyhead\n",
      "4          u1235         112          Sleepyhead\n",
      "...          ...         ...                 ...\n",
      "4330       u1828         121          Sleepyhead\n",
      "4331      u18281         121          Sleepyhead\n",
      "4332      u18282         531  Potential Loyalist\n",
      "4333      u18283         555            Champion\n",
      "4334      u18287         344          Sleepyhead\n",
      "\n",
      "[4335 rows x 3 columns]\n"
     ]
    }
   ],
   "source": [
    "#customer segmentation based on the RFM scores\n",
    "\n",
    "def segment_customer(row):\n",
    "    if row['RFM_Segment'] == '555':\n",
    "        return 'Champion'\n",
    "    elif row['R_Score'] >= 4 and row['F_Score'] >= 4:\n",
    "        return 'Loyal Customer'\n",
    "    elif row['R_Score'] == 5 and row['F_Score'] <= 3:\n",
    "        return 'Potential Loyalist'\n",
    "    elif row['R_Score'] == 5:\n",
    "        return 'Recent Customer'\n",
    "    elif row['R_Score'] <= 2 and row['F_Score'] >= 4:\n",
    "        return 'At Risk'\n",
    "    else:\n",
    "        return 'Sleepyhead'\n",
    "\n",
    "# Applying the function to the DataFrame\n",
    "rfm_data['Customer_Segment'] = rfm_data.apply(segment_customer, axis=1)\n",
    "\n",
    "# show results\n",
    "print(rfm_data[['customer_id', 'RFM_Segment', 'Customer_Segment']])\n"
   ]
  },
  {
   "cell_type": "code",
   "execution_count": 470,
   "id": "50faa491-6589-485e-8080-8742237c36be",
   "metadata": {},
   "outputs": [
    {
     "data": {
      "image/png": "[encoded data removed]",
      "text/plain": [
       "<Figure size 1000x600 with 1 Axes>"
      ]
     },
     "metadata": {},
     "output_type": "display_data"
    }
   ],
   "source": [
    "# Plotting the segments\n",
    "\n",
    "# Counting customers in each segment\n",
    "segment_counts = rfm_data['Customer_Segment'].value_counts()\n",
    "\n",
    "# Create bar plot\n",
    "plt.figure(figsize=(10, 6))\n",
    "sns.barplot(x=segment_counts.index, y=segment_counts.values, palette=\"viridis\")\n",
    "plt.title('Number of Customers in Each RFM Segment')\n",
    "plt.xlabel('Customer Segment')\n",
    "plt.ylabel('Number of Customers')\n",
    "plt.xticks(rotation=45)\n",
    "plt.show()\n"
   ]
  },
  {
   "cell_type": "code",
   "execution_count": 471,
   "id": "db34571d-41d2-47db-af4c-357a4ee43608",
   "metadata": {},
   "outputs": [
    {
     "data": {
      "text/plain": [
       "Customer_Segment\n",
       "Sleepyhead            2678\n",
       "Loyal Customer         770\n",
       "Champion               355\n",
       "At Risk                281\n",
       "Potential Loyalist     251\n",
       "Name: count, dtype: int64"
      ]
     },
     "execution_count": 471,
     "metadata": {},
     "output_type": "execute_result"
    }
   ],
   "source": [
    "segment_counts"
   ]
  },
  {
   "cell_type": "markdown",
   "id": "a10fbc5a-b95d-44c6-b508-1930201f1a01",
   "metadata": {},
   "source": [
    "\n",
    "\n",
    "\n",
    "Definition of the Customer Segments:\n",
    "\n",
    "1. \"Champions\" (555): These customers have high scores in all three dimensions: they buy often, spend a lot and have bought recently\n",
    "    --> Promotions: Loyalty programs, VIP status, special offers\n",
    "\n",
    "2. \"Loyal Customers\" (55x, 54x, 45x, 44x): Customers who buy frequently (but may not have the highest spend)\n",
    "    --> Promotions: Cross-selling, recommendations for new products\n",
    "\n",
    "3. \"Potential Loyalists\" (53x, 52x, 51x): Customers who have recently purchased and have more potential to become loyal\n",
    "    --> Promotions: Incentives for further purchases, discounts\n",
    "    --> buying experience benefits\n",
    "\n",
    "4. \"Recent Customers\" (5xx): Customers who have recently purchased but may not spend often or spend a lot\n",
    "    --> Promotions: Follow-up communication, welcome offers\n",
    "    --> buying experience benefits\n",
    "\n",
    "5. \"At Risk\" (14x, 15x, 24x, 25x): Customers who used to be good customers but haven't purchased in a while \n",
    "    --> Promotions: Reactivation campaigns, special discounts\n",
    "    --> activating a loyalty program and special benefits\n",
    "\n",
    "7. \"Sleepyhead\" (x1x, x2x): Customers who have not purchased for a long time and may have churned\n",
    "    --> Promotions: Exploratory surveys, reactivation offers"
   ]
  },
  {
   "cell_type": "code",
   "execution_count": 475,
   "id": "abec27a3-23d4-4078-9ca2-7571e02e5399",
   "metadata": {},
   "outputs": [
    {
     "data": {
      "image/png": "[encoded data removed]",
      "text/plain": [
       "<Figure size 1000x700 with 2 Axes>"
      ]
     },
     "metadata": {},
     "output_type": "display_data"
    }
   ],
   "source": [
    "#visualization 3D scatterplot\n",
    "\n",
    "from mpl_toolkits.mplot3d import Axes3D\n",
    "\n",
    "fig = plt.figure(figsize=(10, 7))\n",
    "ax = fig.add_subplot(111, projection='3d')\n",
    "\n",
    "# 3D-Scatterplot erstellen\n",
    "scatter = ax.scatter(rfm_data['Recency'], rfm_data['Frequency'], rfm_data['Monetary'],\n",
    "                     c=rfm_data['RFM_Score'], cmap='viridis', s=100, alpha=0.6)\n",
    "\n",
    "ax.set_xlabel('Recency')\n",
    "ax.set_ylabel('Frequency')\n",
    "ax.set_zlabel('Monetary')\n",
    "ax.set_title('3D Scatterplot of RFM Scores')\n",
    "\n",
    "fig.colorbar(scatter, ax=ax, label='RFM Score')\n",
    "plt.show()\n"
   ]
  },
  {
   "cell_type": "code",
   "execution_count": 476,
   "id": "916c6663-75c9-45ef-b491-9ea3a69da536",
   "metadata": {},
   "outputs": [
    {
     "data": {
      "image/png": "[encoded data removed]",
      "text/plain": [
       "<Figure size 1000x600 with 2 Axes>"
      ]
     },
     "metadata": {},
     "output_type": "display_data"
    }
   ],
   "source": [
    "# Pivot for heatmap\n",
    "rfm_pivot = rfm_data.pivot_table(index='R_Score', columns='F_Score', values='Monetary', aggfunc='mean')\n",
    "\n",
    "# Heatmap \n",
    "plt.figure(figsize=(10, 6))\n",
    "sns.heatmap(rfm_pivot, annot=True, fmt='.0f', cmap='YlGnBu')\n",
    "plt.title('Heatmap of Average Monetary Value by RFM Scores')\n",
    "plt.xlabel('Frequency Score')\n",
    "plt.ylabel('Recency Score')\n",
    "plt.show()\n"
   ]
  },
  {
   "cell_type": "markdown",
   "id": "837d8a26-fabb-4f6c-b686-52c172389d14",
   "metadata": {},
   "source": [
    "Findings:\n",
    "\n",
    "- the 3D scatter plot provides a visual representation of the relationships between the RFM dimensions\n",
    "- the heatmap visualizes the distribution of the RFM scores and the average monetary values\n",
    "\n",
    "--> there are 2 main developments: frequent repeat buyers with a medium monetary investment and few repeat buyers with a small to a very high investment\n",
    "--> this may be due to the fact that it is a young company that has yet to gain a foothold in the market or because we only had data from 1 financial year at our disposal \n"
   ]
  },
  {
   "cell_type": "code",
   "execution_count": 467,
   "id": "b94a348c-4516-4baf-a0c6-4c9344dfa524",
   "metadata": {},
   "outputs": [
    {
     "data": {
      "text/html": [
       "<div>\n",
       "<style scoped>\n",
       "    .dataframe tbody tr th:only-of-type {\n",
       "        vertical-align: middle;\n",
       "    }\n",
       "\n",
       "    .dataframe tbody tr th {\n",
       "        vertical-align: top;\n",
       "    }\n",
       "\n",
       "    .dataframe thead th {\n",
       "        text-align: right;\n",
       "    }\n",
       "</style>\n",
       "<table border=\"1\" class=\"dataframe\">\n",
       "  <thead>\n",
       "    <tr style=\"text-align: right;\">\n",
       "      <th></th>\n",
       "      <th>customer_id</th>\n",
       "      <th>RFM_Segment</th>\n",
       "      <th>Customer_Segment</th>\n",
       "    </tr>\n",
       "  </thead>\n",
       "  <tbody>\n",
       "    <tr>\n",
       "      <th>0</th>\n",
       "      <td>u12346</td>\n",
       "      <td>115</td>\n",
       "      <td>Sleepyhead</td>\n",
       "    </tr>\n",
       "    <tr>\n",
       "      <th>1</th>\n",
       "      <td>u12347</td>\n",
       "      <td>555</td>\n",
       "      <td>Champion</td>\n",
       "    </tr>\n",
       "    <tr>\n",
       "      <th>2</th>\n",
       "      <td>u12348</td>\n",
       "      <td>244</td>\n",
       "      <td>At Risk</td>\n",
       "    </tr>\n",
       "    <tr>\n",
       "      <th>3</th>\n",
       "      <td>u12349</td>\n",
       "      <td>414</td>\n",
       "      <td>Sleepyhead</td>\n",
       "    </tr>\n",
       "    <tr>\n",
       "      <th>4</th>\n",
       "      <td>u1235</td>\n",
       "      <td>112</td>\n",
       "      <td>Sleepyhead</td>\n",
       "    </tr>\n",
       "    <tr>\n",
       "      <th>...</th>\n",
       "      <td>...</td>\n",
       "      <td>...</td>\n",
       "      <td>...</td>\n",
       "    </tr>\n",
       "    <tr>\n",
       "      <th>4330</th>\n",
       "      <td>u1828</td>\n",
       "      <td>121</td>\n",
       "      <td>Sleepyhead</td>\n",
       "    </tr>\n",
       "    <tr>\n",
       "      <th>4331</th>\n",
       "      <td>u18281</td>\n",
       "      <td>121</td>\n",
       "      <td>Sleepyhead</td>\n",
       "    </tr>\n",
       "    <tr>\n",
       "      <th>4332</th>\n",
       "      <td>u18282</td>\n",
       "      <td>531</td>\n",
       "      <td>Potential Loyalist</td>\n",
       "    </tr>\n",
       "    <tr>\n",
       "      <th>4333</th>\n",
       "      <td>u18283</td>\n",
       "      <td>555</td>\n",
       "      <td>Champion</td>\n",
       "    </tr>\n",
       "    <tr>\n",
       "      <th>4334</th>\n",
       "      <td>u18287</td>\n",
       "      <td>344</td>\n",
       "      <td>Sleepyhead</td>\n",
       "    </tr>\n",
       "  </tbody>\n",
       "</table>\n",
       "<p>4335 rows × 3 columns</p>\n",
       "</div>"
      ],
      "text/plain": [
       "     customer_id RFM_Segment    Customer_Segment\n",
       "0         u12346         115          Sleepyhead\n",
       "1         u12347         555            Champion\n",
       "2         u12348         244             At Risk\n",
       "3         u12349         414          Sleepyhead\n",
       "4          u1235         112          Sleepyhead\n",
       "...          ...         ...                 ...\n",
       "4330       u1828         121          Sleepyhead\n",
       "4331      u18281         121          Sleepyhead\n",
       "4332      u18282         531  Potential Loyalist\n",
       "4333      u18283         555            Champion\n",
       "4334      u18287         344          Sleepyhead\n",
       "\n",
       "[4335 rows x 3 columns]"
      ]
     },
     "execution_count": 467,
     "metadata": {},
     "output_type": "execute_result"
    }
   ],
   "source": [
    "#show the new customer table with customer segments\n",
    "data = rfm_data[['customer_id', 'RFM_Segment', 'Customer_Segment']]\n",
    "df = pd.DataFrame(data)\n",
    "\n",
    "\n",
    "df\n"
   ]
  },
  {
   "cell_type": "code",
   "execution_count": 473,
   "id": "ea687e68-6f12-4246-b082-5f226a115102",
   "metadata": {},
   "outputs": [
    {
     "data": {
      "text/html": [
       "<div>\n",
       "<style scoped>\n",
       "    .dataframe tbody tr th:only-of-type {\n",
       "        vertical-align: middle;\n",
       "    }\n",
       "\n",
       "    .dataframe tbody tr th {\n",
       "        vertical-align: top;\n",
       "    }\n",
       "\n",
       "    .dataframe thead th {\n",
       "        text-align: right;\n",
       "    }\n",
       "</style>\n",
       "<table border=\"1\" class=\"dataframe\">\n",
       "  <thead>\n",
       "    <tr style=\"text-align: right;\">\n",
       "      <th></th>\n",
       "      <th>customer_id</th>\n",
       "      <th>Recency</th>\n",
       "      <th>Frequency</th>\n",
       "      <th>Monetary</th>\n",
       "      <th>R_Score</th>\n",
       "      <th>F_Score</th>\n",
       "      <th>M_Score</th>\n",
       "      <th>RFM_Segment</th>\n",
       "      <th>RFM_Score</th>\n",
       "      <th>Customer_Segment</th>\n",
       "    </tr>\n",
       "  </thead>\n",
       "  <tbody>\n",
       "    <tr>\n",
       "      <th>3661</th>\n",
       "      <td>u17365</td>\n",
       "      <td>4642</td>\n",
       "      <td>8</td>\n",
       "      <td>14286.96</td>\n",
       "      <td>5</td>\n",
       "      <td>5</td>\n",
       "      <td>5</td>\n",
       "      <td>555</td>\n",
       "      <td>15</td>\n",
       "      <td>Champion</td>\n",
       "    </tr>\n",
       "    <tr>\n",
       "      <th>3660</th>\n",
       "      <td>u17364</td>\n",
       "      <td>4630</td>\n",
       "      <td>11</td>\n",
       "      <td>13388.04</td>\n",
       "      <td>5</td>\n",
       "      <td>5</td>\n",
       "      <td>5</td>\n",
       "      <td>555</td>\n",
       "      <td>15</td>\n",
       "      <td>Champion</td>\n",
       "    </tr>\n",
       "    <tr>\n",
       "      <th>4294</th>\n",
       "      <td>u18229</td>\n",
       "      <td>4641</td>\n",
       "      <td>20</td>\n",
       "      <td>21830.70</td>\n",
       "      <td>5</td>\n",
       "      <td>5</td>\n",
       "      <td>5</td>\n",
       "      <td>555</td>\n",
       "      <td>15</td>\n",
       "      <td>Champion</td>\n",
       "    </tr>\n",
       "    <tr>\n",
       "      <th>4290</th>\n",
       "      <td>u18225</td>\n",
       "      <td>4633</td>\n",
       "      <td>12</td>\n",
       "      <td>16514.88</td>\n",
       "      <td>5</td>\n",
       "      <td>5</td>\n",
       "      <td>5</td>\n",
       "      <td>555</td>\n",
       "      <td>15</td>\n",
       "      <td>Champion</td>\n",
       "    </tr>\n",
       "    <tr>\n",
       "      <th>3619</th>\n",
       "      <td>u17306</td>\n",
       "      <td>4640</td>\n",
       "      <td>19</td>\n",
       "      <td>25893.93</td>\n",
       "      <td>5</td>\n",
       "      <td>5</td>\n",
       "      <td>5</td>\n",
       "      <td>555</td>\n",
       "      <td>15</td>\n",
       "      <td>Champion</td>\n",
       "    </tr>\n",
       "    <tr>\n",
       "      <th>1008</th>\n",
       "      <td>u13709</td>\n",
       "      <td>4633</td>\n",
       "      <td>13</td>\n",
       "      <td>18922.95</td>\n",
       "      <td>5</td>\n",
       "      <td>5</td>\n",
       "      <td>5</td>\n",
       "      <td>555</td>\n",
       "      <td>15</td>\n",
       "      <td>Champion</td>\n",
       "    </tr>\n",
       "    <tr>\n",
       "      <th>3645</th>\n",
       "      <td>u17346</td>\n",
       "      <td>4633</td>\n",
       "      <td>15</td>\n",
       "      <td>7868.64</td>\n",
       "      <td>5</td>\n",
       "      <td>5</td>\n",
       "      <td>5</td>\n",
       "      <td>555</td>\n",
       "      <td>15</td>\n",
       "      <td>Champion</td>\n",
       "    </tr>\n",
       "    <tr>\n",
       "      <th>953</th>\n",
       "      <td>u1363</td>\n",
       "      <td>4635</td>\n",
       "      <td>7</td>\n",
       "      <td>6095.34</td>\n",
       "      <td>5</td>\n",
       "      <td>5</td>\n",
       "      <td>5</td>\n",
       "      <td>555</td>\n",
       "      <td>15</td>\n",
       "      <td>Champion</td>\n",
       "    </tr>\n",
       "    <tr>\n",
       "      <th>2586</th>\n",
       "      <td>u15861</td>\n",
       "      <td>4642</td>\n",
       "      <td>8</td>\n",
       "      <td>9440.76</td>\n",
       "      <td>5</td>\n",
       "      <td>5</td>\n",
       "      <td>5</td>\n",
       "      <td>555</td>\n",
       "      <td>15</td>\n",
       "      <td>Champion</td>\n",
       "    </tr>\n",
       "    <tr>\n",
       "      <th>935</th>\n",
       "      <td>u13599</td>\n",
       "      <td>4631</td>\n",
       "      <td>21</td>\n",
       "      <td>15449.76</td>\n",
       "      <td>5</td>\n",
       "      <td>5</td>\n",
       "      <td>5</td>\n",
       "      <td>555</td>\n",
       "      <td>15</td>\n",
       "      <td>Champion</td>\n",
       "    </tr>\n",
       "  </tbody>\n",
       "</table>\n",
       "</div>"
      ],
      "text/plain": [
       "     customer_id  Recency  Frequency  Monetary R_Score F_Score M_Score  \\\n",
       "3661      u17365     4642          8  14286.96       5       5       5   \n",
       "3660      u17364     4630         11  13388.04       5       5       5   \n",
       "4294      u18229     4641         20  21830.70       5       5       5   \n",
       "4290      u18225     4633         12  16514.88       5       5       5   \n",
       "3619      u17306     4640         19  25893.93       5       5       5   \n",
       "1008      u13709     4633         13  18922.95       5       5       5   \n",
       "3645      u17346     4633         15   7868.64       5       5       5   \n",
       "953        u1363     4635          7   6095.34       5       5       5   \n",
       "2586      u15861     4642          8   9440.76       5       5       5   \n",
       "935       u13599     4631         21  15449.76       5       5       5   \n",
       "\n",
       "     RFM_Segment  RFM_Score Customer_Segment  \n",
       "3661         555         15         Champion  \n",
       "3660         555         15         Champion  \n",
       "4294         555         15         Champion  \n",
       "4290         555         15         Champion  \n",
       "3619         555         15         Champion  \n",
       "1008         555         15         Champion  \n",
       "3645         555         15         Champion  \n",
       "953          555         15         Champion  \n",
       "2586         555         15         Champion  \n",
       "935          555         15         Champion  "
      ]
     },
     "execution_count": 473,
     "metadata": {},
     "output_type": "execute_result"
    }
   ],
   "source": [
    "# Display the top customers based on RFM Score\n",
    "top_customers = rfm_data.sort_values(by='RFM_Score', ascending=False).head(10)\n",
    "top_customers"
   ]
  },
  {
   "cell_type": "code",
   "execution_count": 474,
   "id": "d5062ed6-c4f8-4321-abc7-5fda5f06a4fb",
   "metadata": {},
   "outputs": [
    {
     "data": {
      "text/html": [
       "<div>\n",
       "<style scoped>\n",
       "    .dataframe tbody tr th:only-of-type {\n",
       "        vertical-align: middle;\n",
       "    }\n",
       "\n",
       "    .dataframe tbody tr th {\n",
       "        vertical-align: top;\n",
       "    }\n",
       "\n",
       "    .dataframe thead th {\n",
       "        text-align: right;\n",
       "    }\n",
       "</style>\n",
       "<table border=\"1\" class=\"dataframe\">\n",
       "  <thead>\n",
       "    <tr style=\"text-align: right;\">\n",
       "      <th></th>\n",
       "      <th>customer_id</th>\n",
       "      <th>Recency</th>\n",
       "      <th>Frequency</th>\n",
       "      <th>Monetary</th>\n",
       "      <th>R_Score</th>\n",
       "      <th>F_Score</th>\n",
       "      <th>M_Score</th>\n",
       "      <th>RFM_Segment</th>\n",
       "      <th>RFM_Score</th>\n",
       "      <th>Customer_Segment</th>\n",
       "    </tr>\n",
       "  </thead>\n",
       "  <tbody>\n",
       "    <tr>\n",
       "      <th>1486</th>\n",
       "      <td>u14373</td>\n",
       "      <td>4988</td>\n",
       "      <td>1</td>\n",
       "      <td>229.65</td>\n",
       "      <td>1</td>\n",
       "      <td>1</td>\n",
       "      <td>1</td>\n",
       "      <td>111</td>\n",
       "      <td>3</td>\n",
       "      <td>Sleepyhead</td>\n",
       "    </tr>\n",
       "    <tr>\n",
       "      <th>1487</th>\n",
       "      <td>u14375</td>\n",
       "      <td>4815</td>\n",
       "      <td>1</td>\n",
       "      <td>706.68</td>\n",
       "      <td>1</td>\n",
       "      <td>1</td>\n",
       "      <td>1</td>\n",
       "      <td>111</td>\n",
       "      <td>3</td>\n",
       "      <td>Sleepyhead</td>\n",
       "    </tr>\n",
       "    <tr>\n",
       "      <th>1494</th>\n",
       "      <td>u14386</td>\n",
       "      <td>4926</td>\n",
       "      <td>1</td>\n",
       "      <td>427.20</td>\n",
       "      <td>1</td>\n",
       "      <td>1</td>\n",
       "      <td>1</td>\n",
       "      <td>111</td>\n",
       "      <td>3</td>\n",
       "      <td>Sleepyhead</td>\n",
       "    </tr>\n",
       "    <tr>\n",
       "      <th>551</th>\n",
       "      <td>u1307</td>\n",
       "      <td>4822</td>\n",
       "      <td>1</td>\n",
       "      <td>686.40</td>\n",
       "      <td>1</td>\n",
       "      <td>1</td>\n",
       "      <td>1</td>\n",
       "      <td>111</td>\n",
       "      <td>3</td>\n",
       "      <td>Sleepyhead</td>\n",
       "    </tr>\n",
       "    <tr>\n",
       "      <th>552</th>\n",
       "      <td>u13072</td>\n",
       "      <td>4896</td>\n",
       "      <td>1</td>\n",
       "      <td>531.45</td>\n",
       "      <td>1</td>\n",
       "      <td>1</td>\n",
       "      <td>1</td>\n",
       "      <td>111</td>\n",
       "      <td>3</td>\n",
       "      <td>Sleepyhead</td>\n",
       "    </tr>\n",
       "    <tr>\n",
       "      <th>572</th>\n",
       "      <td>u13101</td>\n",
       "      <td>4864</td>\n",
       "      <td>1</td>\n",
       "      <td>303.57</td>\n",
       "      <td>1</td>\n",
       "      <td>1</td>\n",
       "      <td>1</td>\n",
       "      <td>111</td>\n",
       "      <td>3</td>\n",
       "      <td>Sleepyhead</td>\n",
       "    </tr>\n",
       "    <tr>\n",
       "      <th>586</th>\n",
       "      <td>u1312</td>\n",
       "      <td>4868</td>\n",
       "      <td>1</td>\n",
       "      <td>91.80</td>\n",
       "      <td>1</td>\n",
       "      <td>1</td>\n",
       "      <td>1</td>\n",
       "      <td>111</td>\n",
       "      <td>3</td>\n",
       "      <td>Sleepyhead</td>\n",
       "    </tr>\n",
       "    <tr>\n",
       "      <th>594</th>\n",
       "      <td>u13132</td>\n",
       "      <td>4891</td>\n",
       "      <td>1</td>\n",
       "      <td>231.90</td>\n",
       "      <td>1</td>\n",
       "      <td>1</td>\n",
       "      <td>1</td>\n",
       "      <td>111</td>\n",
       "      <td>3</td>\n",
       "      <td>Sleepyhead</td>\n",
       "    </tr>\n",
       "    <tr>\n",
       "      <th>605</th>\n",
       "      <td>u13144</td>\n",
       "      <td>4962</td>\n",
       "      <td>1</td>\n",
       "      <td>332.85</td>\n",
       "      <td>1</td>\n",
       "      <td>1</td>\n",
       "      <td>1</td>\n",
       "      <td>111</td>\n",
       "      <td>3</td>\n",
       "      <td>Sleepyhead</td>\n",
       "    </tr>\n",
       "    <tr>\n",
       "      <th>6</th>\n",
       "      <td>u12353</td>\n",
       "      <td>4834</td>\n",
       "      <td>1</td>\n",
       "      <td>267.00</td>\n",
       "      <td>1</td>\n",
       "      <td>1</td>\n",
       "      <td>1</td>\n",
       "      <td>111</td>\n",
       "      <td>3</td>\n",
       "      <td>Sleepyhead</td>\n",
       "    </tr>\n",
       "  </tbody>\n",
       "</table>\n",
       "</div>"
      ],
      "text/plain": [
       "     customer_id  Recency  Frequency  Monetary R_Score F_Score M_Score  \\\n",
       "1486      u14373     4988          1    229.65       1       1       1   \n",
       "1487      u14375     4815          1    706.68       1       1       1   \n",
       "1494      u14386     4926          1    427.20       1       1       1   \n",
       "551        u1307     4822          1    686.40       1       1       1   \n",
       "552       u13072     4896          1    531.45       1       1       1   \n",
       "572       u13101     4864          1    303.57       1       1       1   \n",
       "586        u1312     4868          1     91.80       1       1       1   \n",
       "594       u13132     4891          1    231.90       1       1       1   \n",
       "605       u13144     4962          1    332.85       1       1       1   \n",
       "6         u12353     4834          1    267.00       1       1       1   \n",
       "\n",
       "     RFM_Segment  RFM_Score Customer_Segment  \n",
       "1486         111          3       Sleepyhead  \n",
       "1487         111          3       Sleepyhead  \n",
       "1494         111          3       Sleepyhead  \n",
       "551          111          3       Sleepyhead  \n",
       "552          111          3       Sleepyhead  \n",
       "572          111          3       Sleepyhead  \n",
       "586          111          3       Sleepyhead  \n",
       "594          111          3       Sleepyhead  \n",
       "605          111          3       Sleepyhead  \n",
       "6            111          3       Sleepyhead  "
      ]
     },
     "execution_count": 474,
     "metadata": {},
     "output_type": "execute_result"
    }
   ],
   "source": [
    "# Display the low customers based on CLV\n",
    "low_customers = rfm_data.sort_values(by='RFM_Score', ascending=True).head(10)\n",
    "low_customers"
   ]
  },
  {
   "cell_type": "markdown",
   "id": "11c6938a-cb97-4112-92a4-2cfa399e2d98",
   "metadata": {},
   "source": [
    "3. Conclusions and Recommendations"
   ]
  },
  {
   "cell_type": "markdown",
   "id": "ffab46a5-2d15-49a7-bd14-f1f08a210902",
   "metadata": {},
   "source": [
    "RFM analysis segments customers based on their buying behavior into categories such as Recency (how recently), Frequency (how often), and Monetary (how much). Each customer group requires different marketing strategies to maximize engagement and retention. \n",
    "\n",
    "1. champions (high recency, high frequency, high monetary)\n",
    "\n",
    "Description: These customers are the best customers who buy often and a lot.\n",
    "\n",
    "Strategies:\n",
    "\n",
    "- VIP programs: Reward them with exclusive offers, discounts or early access to new products.\n",
    "\n",
    "- Loyalty programs: Implement special rewards programs to cement their loyalty.\n",
    "\n",
    "- Personalized marketing: Send tailored offers based on their buying behavior.\n",
    "\n",
    "- Gather feedback: Leverage their positive attitude towards the brand to get valuable feedback."
   ]
  },
  {
   "cell_type": "markdown",
   "id": "deba4ca7-cd29-48b8-a2af-ba37fd9429ef",
   "metadata": {},
   "source": [
    "2. loyal customers (high frequency, medium to high monetary)\n",
    "\n",
    "Description: These customers buy regularly, show loyalty, but may not have the highest spend.\n",
    "Strategies:\n",
    "\n",
    "- Cross-sell and upsell: recommend products that complement their previous purchases.\n",
    "\n",
    "- Referral Programs: Encourage them to refer friends and family by offering incentives.\n",
    "\n",
    "- Extended memberships: Offer discounts on future purchases or memberships to build customer loyalty.\n",
    "\n",
    "- Content marketing: Offer valuable content that keeps them interested."
   ]
  },
  {
   "cell_type": "markdown",
   "id": "3dea2cc9-6059-4d77-bce5-d5b813322a73",
   "metadata": {},
   "source": [
    "3. potential loyalists (high recency, medium frequency, medium monetary)\n",
    "   \n",
    "Description: These customers have recently purchased and could become loyal customers.\n",
    "\n",
    "Strategies:\n",
    "\n",
    "- Welcome programs: Offer special discounts or coupons for their next purchase.\n",
    "\n",
    "- Email marketing: Send regular emails with attractive offers to keep them engaged.\n",
    "\n",
    "- Proactive customer care: Contact them after purchase to ensure they are satisfied.\n",
    "\n",
    "- Discounts for their next order: Encourage them to come back sooner."
   ]
  },
  {
   "cell_type": "markdown",
   "id": "822394ce-8e84-4c19-ae2f-8fbb2b28cd7b",
   "metadata": {},
   "source": [
    "4. recent customers (high recency, low frequency, low monetary)\n",
    "\n",
    "Description: These customers have recently made a purchase, but possibly for the first time.\n",
    "\n",
    "Strategies:\n",
    "\n",
    "- Follow-up campaigns: send post-purchase thank you messages or surveys to build customer loyalty.\n",
    "\n",
    "- Incentives to repeat: Offer incentives for the next purchase, such as discounts or free shipping options.\n",
    "\n",
    "- Loyalty programs: Introduce special reward programs to induce their future loyalty.\n",
    "\n",
    "- Product suggestions: Based on their first purchase, suggest similar or complementary products.\n",
    "\n",
    "- Onboarding: Offer tutorials, guides or product information to maximize the value of the purchase."
   ]
  },
  {
   "cell_type": "markdown",
   "id": "bd746c99-efd1-4e92-aa46-e8bae704b918",
   "metadata": {},
   "source": [
    "5. at risk (low recency, high frequency, high monetary)\n",
    "\n",
    "Description: These customers have bought a lot in the past, but less recently.\n",
    "\n",
    "Strategies:\n",
    "\n",
    "- Reactivation campaigns: send a targeted campaign with special offers to win them back.\n",
    "\n",
    "- Exclusive discounts: Offer time-limited discounts or special promotions to motivate them to buy more.\n",
    "\n",
    "- Personalized approach: Use personalized emails or even phone calls to get their attention.\n",
    "\n",
    "- Reminder campaigns: Use trigger emails to remind them of past purchases and win back their loyalty."
   ]
  },
  {
   "cell_type": "markdown",
   "id": "6d98275d-264f-4284-8169-5a4755360447",
   "metadata": {},
   "source": [
    "6. sleepyheads (low recency, low frequency, low monetary)\n",
    "\n",
    "Description: These customers have not bought for a long time and have never been very active.\n",
    "\n",
    "Strategies:\n",
    "\n",
    "- Win-back campaigns: send strong special offers or discounts to win them back.\n",
    "\n",
    "- Market research: Conduct surveys to understand why they have become inactive with incentive for participation.\n",
    "\n",
    "- Content re-engagement: Use email series or blogs to get them interested in the brand again.\n",
    "\n",
    "- Introduce product innovations: Introduce new products or features that might attract them."
   ]
  },
  {
   "cell_type": "code",
   "execution_count": null,
   "id": "074dcb25-3ec8-4441-b706-c20860149d93",
   "metadata": {},
   "outputs": [],
   "source": []
  }
 ],
 "metadata": {
  "kernelspec": {
   "display_name": "Python 3 (ipykernel)",
   "language": "python",
   "name": "python3"
  },
  "language_info": {
   "codemirror_mode": {
    "name": "ipython",
    "version": 3
   },
   "file_extension": ".py",
   "mimetype": "text/x-python",
   "name": "python",
   "nbconvert_exporter": "python",
   "pygments_lexer": "ipython3",
   "version": "3.12.0"
  }
 },
 "nbformat": 4,
 "nbformat_minor": 5
}
